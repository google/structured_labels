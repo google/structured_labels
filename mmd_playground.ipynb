{
 "cells": [
  {
   "cell_type": "code",
   "execution_count": 1,
   "metadata": {},
   "outputs": [],
   "source": [
    "import pandas as pd\n",
    "import sys \n",
    "import numpy as np \n",
    "from sklearn.metrics.pairwise import euclidean_distances \n",
    "import matplotlib.pyplot as plt\n",
    "import tensorflow as tf \n",
    "import tensorflow_addons as tfa\n",
    "import tensorflow_probability as tfp\n",
    "np.set_printoptions(precision=3)\n",
    "\n",
    "sys.path.append('/data/ddmg/slabs/structured_labels/')"
   ]
  },
  {
   "cell_type": "code",
   "execution_count": 2,
   "metadata": {},
   "outputs": [],
   "source": [
    "def create_dummy_data(n, stdev=0.0):\n",
    "    x00 = np.random.normal([0,0], [stdev, stdev], size=(n[0], 2))\n",
    "    y00 = np.zeros((n[0], 2))\n",
    "\n",
    "    x11 = np.random.normal([1,1], [stdev, stdev], size=(n[1], 2))\n",
    "    y11 = np.ones((n[1], 2))\n",
    "    \n",
    "    x10 = np.random.normal([1,0], [stdev, stdev], size=(n[2], 2))\n",
    "    y10 = np.hstack([np.ones((n[2], 1)), np.zeros((n[2], 1))])\n",
    "    \n",
    "    x01 = np.random.normal([0,1], [stdev, stdev], size=(n[3], 2))\n",
    "    y01 = np.hstack([np.zeros((n[3], 1)), np.ones((n[3], 1))])\n",
    "    \n",
    "    x = np.concatenate([x11, x01, x10, x00], axis=0)\n",
    "    y = np.concatenate([y11, y01, y10, y00], axis=0)\n",
    "    return x, y\n",
    "\n",
    "\n",
    "def get_weights(y):\n",
    "    \n",
    "    p11 = np.sum(y[:,0] * y[:,1]) / np.sum(y[:,1])\n",
    "    p01 = np.sum((1.0 - y[:,0]) * y[:,1]) / np.sum(y[:,1])\n",
    "\n",
    "    p10 = np.sum(y[:,0] * (1.0 - y[:,1])) / np.sum((1.0 - y[:,1]))\n",
    "    p00 = np.sum( (1.0 - y[:,0]) * (1.0 - y[:,1])\n",
    "        ) / np.sum((1.0 - y[:,1]))\n",
    "\n",
    "    # -- positive weights\n",
    "    weights_pos = y[:,0] * p11 + (1.0 - y[:,0]) * p01\n",
    "    weights_pos = 1.0 / weights_pos\n",
    "    weights_pos = y[:,1] * weights_pos\n",
    "\n",
    "    # -- negative weights\n",
    "    weights_neg =\ty[:,0] *  p10 + \\\n",
    "                    (1.0 - y[:,0]) * p00\n",
    "    weights_neg = 1.0 / weights_neg\n",
    "    weights_neg = (1.0 - y[:,1]) * weights_neg\n",
    "    \n",
    "    return weights_pos.reshape(-1, 1), weights_neg.reshape(-1, 1)\n",
    "\n"
   ]
  },
  {
   "cell_type": "code",
   "execution_count": 27,
   "metadata": {},
   "outputs": [],
   "source": [
    "\n",
    "def mmd_loss_unweighted(embedding, auxiliary_labels, params):\n",
    "\tr\"\"\"Computes unweighted MMD loss between embeddings of groups defined by label.\n",
    "\n",
    "\tMaximum Mean Discrepancy (MMD) is an integrated probability metric.\n",
    "\tIt measures the distance between two probability distributions. In this\n",
    "\tsetting, we measure (and penalize) the distance between the probability\n",
    "\tdistributions of the embeddings of group 0 (where auxiliary_labels ==0), and\n",
    "\tthe emeddings of group 1 (where auxiliary_labels ==1). The specific equation\n",
    "\tfor computing the MMD is:\n",
    "\n",
    "\tMMD^2(P, Q)= || \\E{\\phi_sigma(x)} - \\E{\\phi_sigma(y)} ||^2\n",
    "\t\t\t\t\t\t= \\E{ K_sigma(x, x) } + \\E{ K_sigma(y, y) } - 2 \\E{ K_sigma(x, y)},\n",
    "\n",
    "\twhere K_sigma = <\\phi_sigma(x), \\phi_sigma(y)>,is a kernel function,\n",
    "\tin this case a radial basis kernel, with bandwidth sigma.\n",
    "\n",
    "\tFor our main approach, we penalize the mmd_loss (encourage the distance to be\n",
    "\tsmall i.e., encourage the two distributions to be close, which is roughly\n",
    "\tequivalent to an adversarial setting: by forcing MMD to be small, an\n",
    "\tadversary cannot distinguish between the two groups solely based on the\n",
    "\tembedding. This also implies that cross-prediction (predicting\n",
    "\tauxiliary_labels using embedding) is penalized.\n",
    "\n",
    "\tArgs:\n",
    "\t\tembedding: tensor with learned embedding\n",
    "\t\tauxiliary_labels: tensor with label defining 2 groups\n",
    "\t\tparams: dictionary of parameters, must include sigma, the\n",
    "\t\t\tkernel bandwidth\n",
    "\tReturns:\n",
    "\t\tmmd_val: MMD between embeddings of the two groups defined by label\n",
    "\t\tpos_kernel_mean: not used, just for debugging. kernel mean of the\n",
    "\t\t\tgroup with aux label = 1\n",
    "\t\tneg_kernel_mean: not used, just for debugging. kernel mean of the\n",
    "\t\t\tgroup with aux label = 0\n",
    "\t\tpos_neg_kernel_mean: not used, just for debugging.\n",
    "\t\t\tmean of the kernel between pos & neg examples\n",
    "\t\tneg_pos_kernel_mean: not used, just for debugging.\n",
    "\t\t\tmean of the kernel between neg & pos examples\n",
    "\t\"\"\"\n",
    "\tsigma = params['sigma']\n",
    "\tdel params\n",
    "\n",
    "\tkernel = tfp.math.psd_kernels.ExponentiatedQuadratic(\n",
    "\t\tamplitude=1.0, length_scale=sigma)\n",
    "\n",
    "\tkernel_mat = kernel.matrix(embedding, embedding)\n",
    "\n",
    "\tif len(auxiliary_labels.shape) == 1:\n",
    "\t\tauxiliary_labels = tf.expand_dims(auxiliary_labels, axis=-1)\n",
    "\n",
    "\tpos_mask = tf.matmul(auxiliary_labels, tf.transpose(auxiliary_labels))\n",
    "\tneg_mask = tf.matmul(1.0 - auxiliary_labels,\n",
    "\t\ttf.transpose(1.0 - auxiliary_labels))\n",
    "\tpos_neg_mask = tf.matmul(auxiliary_labels,\n",
    "\t\ttf.transpose(1.0 - auxiliary_labels))\n",
    "\tprint(tf.reduce_sum(pos_mask))\n",
    "\tprint(tf.reduce_sum(neg_mask))\n",
    "\tprint(tf.reduce_sum(pos_neg_mask))\n",
    "\tpos_kernel_mean = tf.math.divide_no_nan(\n",
    "\t\ttf.reduce_sum(pos_mask * kernel_mat), tf.reduce_sum(pos_mask))\n",
    "\tneg_kernel_mean = tf.math.divide_no_nan(\n",
    "\t\ttf.reduce_sum(neg_mask * kernel_mat), tf.reduce_sum(neg_mask))\n",
    "\tpos_neg_kernel_mean = tf.math.divide_no_nan(\n",
    "\t\ttf.reduce_sum(pos_neg_mask * kernel_mat), tf.reduce_sum(pos_neg_mask))\n",
    "\n",
    "\tmmd_val = pos_kernel_mean + neg_kernel_mean - 2 * pos_neg_kernel_mean\n",
    "\tmmd_val = tf.maximum(0.0, mmd_val)\n",
    "\n",
    "\treturn mmd_val, pos_kernel_mean, neg_kernel_mean, pos_neg_kernel_mean, pos_neg_kernel_mean"
   ]
  },
  {
   "cell_type": "code",
   "execution_count": 12,
   "metadata": {},
   "outputs": [],
   "source": [
    "def mmd_loss_weighted_one_way(embedding, auxiliary_labels, weights_pos, weights_neg, params):\n",
    "\tr\"\"\"Computes weighted MMD loss between embeddings of groups defined by label.\n",
    "\n",
    "\tMaximum Mean Discrepancy (MMD) is an integrated probability metric.\n",
    "\tIt measures the distance between two probability distributions. In this\n",
    "\tsetting, we measure (and penalize) the distance between the probability\n",
    "\tdistributions of the embeddings of group 0 (where auxiliary_labels ==0), and\n",
    "\tthe emeddings of group 1 (where auxiliary_labels ==1). The specific equation\n",
    "\tfor computing the MMD is:\n",
    "\n",
    "\tMMD^2(P, Q)= || \\E{\\phi_sigma(x)} - \\E{\\phi_sigma(y)} ||^2\n",
    "\t\t\t\t\t\t= \\E{ K_sigma(x, x) } + \\E{ K_sigma(y, y) } - 2 \\E{ K_sigma(x, y)},\n",
    "\n",
    "\twhere K_sigma = <\\phi_sigma(x), \\phi_sigma(y)>,is a kernel function,\n",
    "\tin this case a radial basis kernel, with bandwidth sigma.\n",
    "\n",
    "\tFor our main approach, we penalize the mmd_loss (encourage the distance to be\n",
    "\tsmall i.e., encourage the two distributions to be close, which is roughly\n",
    "\tequivalent to an adversarial setting: by forcing MMD to be small, an\n",
    "\tadversary cannot distinguish between the two groups solely based on the\n",
    "\tembedding. This also implies that cross-prediction (predicting\n",
    "\tauxiliary_labels using embedding) is penalized\n",
    "\n",
    "\tArgs:\n",
    "\t\tembedding: tensor with learned embedding\n",
    "\t\tauxiliary_labels: tensor with label defining 2 groups\n",
    "\t\tweights_pos: tensor with weights for the positive group\n",
    "\t\tweights_neg: tensor with weights for the negative group\n",
    "\t\tparams: dictionary of parameters, must include sigma, the\n",
    "\t\t\tkernel bandwidth\n",
    "\tReturns:\n",
    "\t\tmmd_val: MMD between embeddings of the two groups defined by label\n",
    "\t\tpos_kernel_mean: not used, just for debugging. kernel mean of the\n",
    "\t\t\tgroup with aux label = 1\n",
    "\t\tneg_kernel_mean: not used, just for debugging. kernel mean of the\n",
    "\t\t\tgroup with aux label = 0\n",
    "\t\tpos_neg_kernel_mean: not used, just for debugging.\n",
    "\t\t\tmean of the kernel between pos & neg examples\n",
    "\t\tneg_pos_kernel_mean: not used, just for debugging.\n",
    "\t\t\tmean of the kernel between neg & pos examples\n",
    "\t\"\"\"\n",
    "\tsigma = params['sigma']\n",
    "\tkernel = tfp.math.psd_kernels.ExponentiatedQuadratic(\n",
    "\t\tamplitude=1.0, length_scale=sigma)\n",
    "\n",
    "\tkernel_mat = kernel.matrix(embedding, embedding)\n",
    "\n",
    "\tif len(auxiliary_labels.shape) == 1:\n",
    "\t\tauxiliary_labels = tf.expand_dims(auxiliary_labels, axis=-1)\n",
    "\n",
    "\tpos_mask = tf.matmul(auxiliary_labels, tf.transpose(auxiliary_labels))\n",
    "\tneg_mask = tf.matmul(1.0 - auxiliary_labels,\n",
    "\t\ttf.transpose(1.0 - auxiliary_labels))\n",
    "\tpos_neg_mask = tf.matmul(auxiliary_labels,\n",
    "\t\ttf.transpose(1.0 - auxiliary_labels))\n",
    "\tneg_pos_mask = tf.matmul((1.0 - auxiliary_labels),\n",
    "\t\ttf.transpose(auxiliary_labels))\n",
    "\n",
    "\tpos_kernel_mean = kernel_mat * pos_mask\n",
    "\tpos_kernel_mean = tf.math.divide_no_nan(\n",
    "\t\ttf.reduce_sum(pos_kernel_mean, axis=1),\n",
    "\t\ttf.reduce_sum(pos_mask, axis=1))\n",
    "\tpos_kernel_mean = tf.math.divide_no_nan(\n",
    "\t\ttf.reduce_sum(pos_kernel_mean * tf.squeeze(weights_pos)),\n",
    "\t\ttf.reduce_sum(weights_pos))\n",
    "\n",
    "\tneg_kernel_mean = kernel_mat * neg_mask\n",
    "\tneg_kernel_mean = tf.math.divide_no_nan(\n",
    "\t\ttf.reduce_sum(neg_kernel_mean, axis=1),\n",
    "\t\ttf.reduce_sum(neg_mask, axis=1))\n",
    "\tneg_kernel_mean = tf.math.divide_no_nan(\n",
    "\t\ttf.reduce_sum(neg_kernel_mean * tf.squeeze(weights_neg)),\n",
    "\t\ttf.reduce_sum(weights_neg))\n",
    "\n",
    "\tneg_pos_kernel_mean = kernel_mat * neg_pos_mask\n",
    "\tneg_pos_kernel_mean = tf.math.divide_no_nan(\n",
    "\t\ttf.reduce_sum(neg_pos_kernel_mean, axis=1),\n",
    "\t\ttf.reduce_sum(neg_pos_mask, axis=1))\n",
    "\tneg_pos_kernel_mean = tf.math.divide_no_nan(\n",
    "\t\ttf.reduce_sum(neg_pos_kernel_mean * tf.squeeze(weights_neg)),\n",
    "\t\ttf.reduce_sum(weights_neg))\n",
    "\n",
    "\tpos_neg_kernel_mean = kernel_mat * pos_neg_mask\n",
    "\tpos_neg_kernel_mean = tf.math.divide_no_nan(\n",
    "\t\ttf.reduce_sum(pos_neg_kernel_mean, axis=1),\n",
    "\t\ttf.reduce_sum(pos_neg_mask, axis=1))\n",
    "\tpos_neg_kernel_mean = tf.math.divide_no_nan(\n",
    "\t\ttf.reduce_sum(pos_neg_kernel_mean * tf.squeeze(weights_pos)),\n",
    "\t\ttf.reduce_sum(weights_pos))\n",
    "\n",
    "\tmmd_val = pos_kernel_mean + neg_kernel_mean - (\n",
    "\t\tpos_neg_kernel_mean + neg_pos_kernel_mean)\n",
    "\tmmd_val = tf.maximum(0.0, mmd_val)\n",
    "\n",
    "\treturn mmd_val, pos_kernel_mean, neg_kernel_mean, pos_neg_kernel_mean, pos_neg_kernel_mean"
   ]
  },
  {
   "cell_type": "code",
   "execution_count": 13,
   "metadata": {},
   "outputs": [],
   "source": [
    "def mmd_loss_weighted_both_ways(embedding, auxiliary_labels, weights_pos,\n",
    "\tweights_neg, params):\n",
    "\tr\"\"\" NOTE: this function is not used, alternative way to compute the weighted\n",
    "\tmmd. weights the examples both ways (rows and columns).\n",
    "\n",
    "\tComputes MMD loss between embeddings of groups defined by label.\n",
    "\n",
    "\tMaximum Mean Discrepancy (MMD) is an integrated probability metric.\n",
    "\tIt measures the distance between two probability distributions. In this\n",
    "\tsetting, we measure (and penalize) the distance between the probability\n",
    "\tdistributions of the embeddings of group 0 (where auxiliary_labels ==0), and\n",
    "\tthe emeddings of group 1 (where auxiliary_labels ==1). The specific equation\n",
    "\tfor computing the MMD is:\n",
    "\n",
    "\tMMD^2(P, Q)= || \\E{\\phi_sigma(x)} - \\E{\\phi_sigma(y)} ||^2\n",
    "\t\t\t\t\t\t= \\E{ K_sigma(x, x) } + \\E{ K_sigma(y, y) } - 2 \\E{ K_sigma(x, y)},\n",
    "\n",
    "\twhere K_sigma = <\\phi_sigma(x), \\phi_sigma(y)>,is a kernel function,\n",
    "\tin this case a radial basis kernel, with bandwidth sigma.\n",
    "\n",
    "\tFor our main approach, we penalize the mmd_loss (encourage the distance to be\n",
    "\tsmall i.e., encourage the two distributions to be close, which is roughly\n",
    "\tequivalent to an adversarial setting: by forcing MMD to be small, an\n",
    "\tadversary cannot distinguish between the two groups solely based on the\n",
    "\tembedding. This also implies that cross-prediction (predicting\n",
    "\tauxiliary_labels using embedding) is penalized\n",
    "\n",
    "\tArgs:\n",
    "\t\tembedding: tensor with learned embedding\n",
    "\t\tauxiliary_labels: tensor with label defining 2 groups\n",
    "\t\tweights_pos: tensor with weights for the positive group\n",
    "\t\tweights_neg: tensor with weights for the negative group\n",
    "\t\tparams: dictionary of parameters, must include sigma, the\n",
    "\t\t\tkernel bandwidth\n",
    "\tReturns:\n",
    "\t\tmmd_val: MMD between embeddings of the two groups defined by label\n",
    "\t\tpos_kernel_mean: not used, just for debugging. kernel mean of the\n",
    "\t\t\tgroup with aux label = 1\n",
    "\t\tneg_kernel_mean: not used, just for debugging. kernel mean of the\n",
    "\t\t\tgroup with aux label = 0\n",
    "\t\tpos_neg_kernel_mean: not used, just for debugging.\n",
    "\t\t\tmean of the kernel between pos & neg examples\n",
    "\t\tneg_pos_kernel_mean: not used, just for debugging.\n",
    "\t\t\tmean of the kernel between neg & pos examples\n",
    "\t\"\"\"\n",
    "\tsigma = params['sigma']\n",
    "\tkernel = tfp.math.psd_kernels.ExponentiatedQuadratic(\n",
    "\t\tamplitude=1.0, length_scale=sigma)\n",
    "\n",
    "\tkernel_mat = kernel.matrix(embedding, embedding)\n",
    "\n",
    "\tif len(auxiliary_labels.shape) == 1:\n",
    "\t\tauxiliary_labels = tf.expand_dims(auxiliary_labels, axis=-1)\n",
    "\n",
    "\tpos_mask = tf.matmul(auxiliary_labels, tf.transpose(auxiliary_labels))\n",
    "\tneg_mask = tf.matmul(1.0 - auxiliary_labels,\n",
    "\t\ttf.transpose(1.0 - auxiliary_labels))\n",
    "\tpos_neg_mask = tf.matmul(auxiliary_labels,\n",
    "\t\ttf.transpose(1.0 - auxiliary_labels))\n",
    "\tneg_pos_mask = tf.matmul((1.0 - auxiliary_labels),\n",
    "\t\ttf.transpose(auxiliary_labels))\n",
    "\n",
    "\tpos_kernel_mean = kernel_mat * pos_mask\n",
    "\tpos_kernel_mean = pos_kernel_mean * tf.transpose(weights_pos)\n",
    "\n",
    "\tpos_kernel_mean = tf.math.divide_no_nan(\n",
    "\t\ttf.reduce_sum(pos_kernel_mean, axis=1),\n",
    "\t\ttf.reduce_sum(weights_pos))\n",
    "\n",
    "\tpos_kernel_mean = tf.math.divide_no_nan(\n",
    "\t\ttf.reduce_sum(pos_kernel_mean * tf.squeeze(weights_pos)),\n",
    "\t\ttf.reduce_sum(weights_pos))\n",
    "\n",
    "\tneg_kernel_mean = kernel_mat * neg_mask\n",
    "\tneg_kernel_mean = neg_kernel_mean * tf.transpose(weights_neg)\n",
    "\n",
    "\tneg_kernel_mean = tf.math.divide_no_nan(\n",
    "\t\ttf.reduce_sum(neg_kernel_mean, axis=1),\n",
    "\t\ttf.reduce_sum(weights_neg))\n",
    "\tneg_kernel_mean = tf.math.divide_no_nan(\n",
    "\t\ttf.reduce_sum(neg_kernel_mean * tf.squeeze(weights_neg)),\n",
    "\t\ttf.reduce_sum(weights_neg))\n",
    "\n",
    "\tneg_pos_kernel_mean = kernel_mat * neg_pos_mask\n",
    "\tneg_pos_kernel_mean = neg_pos_kernel_mean * tf.transpose(weights_pos)\n",
    "\n",
    "\tneg_pos_kernel_mean = tf.math.divide_no_nan(\n",
    "\t\ttf.reduce_sum(neg_pos_kernel_mean, axis=1),\n",
    "\t\ttf.reduce_sum(weights_pos))\n",
    "\n",
    "\tneg_pos_kernel_mean = tf.math.divide_no_nan(\n",
    "\t\ttf.reduce_sum(neg_pos_kernel_mean * tf.squeeze(weights_neg)),\n",
    "\t\ttf.reduce_sum(weights_neg))\n",
    "\n",
    "\tpos_neg_kernel_mean = kernel_mat * pos_neg_mask\n",
    "\tpos_neg_kernel_mean = pos_neg_kernel_mean * tf.transpose(weights_neg)\n",
    "\n",
    "\tpos_neg_kernel_mean = tf.math.divide_no_nan(\n",
    "\t\ttf.reduce_sum(pos_neg_kernel_mean, axis=1),\n",
    "\t\ttf.reduce_sum(weights_neg))\n",
    "\n",
    "\tpos_neg_kernel_mean = tf.math.divide_no_nan(\n",
    "\t\ttf.reduce_sum(pos_neg_kernel_mean * tf.squeeze(weights_pos)),\n",
    "\t\ttf.reduce_sum(weights_pos))\n",
    "\n",
    "\tmmd_val = pos_kernel_mean + neg_kernel_mean - (\n",
    "\t\tpos_neg_kernel_mean + neg_pos_kernel_mean)\n",
    "\tmmd_val = tf.maximum(0.0, mmd_val)\n",
    "\n",
    "\treturn mmd_val, pos_kernel_mean, neg_kernel_mean, pos_neg_kernel_mean, pos_neg_kernel_mean"
   ]
  },
  {
   "cell_type": "code",
   "execution_count": 25,
   "metadata": {},
   "outputs": [],
   "source": [
    "def mmd_loss_unweighted_two_way(embedding, auxiliary_labels, main_labels, params):\n",
    "\tsigma = params['sigma']\n",
    "\tdel params\n",
    "\n",
    "\tkernel = tfp.math.psd_kernels.ExponentiatedQuadratic(\n",
    "\t\tamplitude=1.0, length_scale=sigma)\n",
    "\n",
    "\tkernel_mat = kernel.matrix(embedding, embedding)\n",
    "\n",
    "\tif len(auxiliary_labels.shape) == 1:\n",
    "\t\tauxiliary_labels = tf.expand_dims(auxiliary_labels, axis=-1)\n",
    "\t\n",
    "\tif len(main_labels.shape) == 1:\n",
    "\t\tmain_labels = tf.expand_dims(main_labels, axis=-1)\n",
    "\n",
    "\n",
    "\t# -- y = 1 \n",
    "\typos_pos_label = auxiliary_labels * main_labels\n",
    "\typos_neg_label = (1.0 - auxiliary_labels) * main_labels\n",
    "\n",
    "\typos_pos_mask = tf.matmul(ypos_pos_label, tf.transpose(ypos_pos_label))\n",
    "\typos_neg_mask = tf.matmul(ypos_neg_label, tf.transpose(ypos_neg_label))\n",
    "\typos_pos_neg_mask = tf.matmul(ypos_pos_label, tf.transpose(ypos_neg_label))\n",
    "\tprint(tf.reduce_sum(ypos_pos_mask))\n",
    "\tprint(tf.reduce_sum(ypos_neg_mask))\n",
    "\tprint(tf.reduce_sum(ypos_pos_neg_mask))\n",
    "    \n",
    "\typos_pos_kernel_mean = tf.math.divide_no_nan(\n",
    "\t\ttf.reduce_sum(ypos_pos_mask * kernel_mat), tf.reduce_sum(ypos_pos_mask))\n",
    "\typos_neg_kernel_mean = tf.math.divide_no_nan(\n",
    "\t\ttf.reduce_sum(ypos_neg_mask * kernel_mat), tf.reduce_sum(ypos_neg_mask))\n",
    "\typos_pos_neg_kernel_mean = tf.math.divide_no_nan(\n",
    "\t\ttf.reduce_sum(ypos_pos_neg_mask * kernel_mat), tf.reduce_sum(ypos_pos_neg_mask))\n",
    "\n",
    "\typos_mmd_val = ypos_pos_kernel_mean + ypos_neg_kernel_mean - 2 * ypos_pos_neg_kernel_mean\n",
    "\typos_mmd_val = tf.maximum(0.0, ypos_mmd_val)\n",
    "\n",
    "\n",
    "\t# -- y = 0 \n",
    "\n",
    "\tyneg_pos_label = auxiliary_labels * (1.0 - main_labels)\n",
    "\tyneg_neg_label = (1.0 - auxiliary_labels) * (1.0 - main_labels)\n",
    "\n",
    "\tyneg_pos_mask = tf.matmul(yneg_pos_label, tf.transpose(yneg_pos_label))\n",
    "\tyneg_neg_mask = tf.matmul(yneg_neg_label, tf.transpose(yneg_neg_label))\n",
    "\tyneg_pos_neg_mask = tf.matmul(yneg_pos_label, tf.transpose(yneg_neg_label))\n",
    "\tprint(tf.reduce_sum(yneg_pos_mask))\n",
    "\tprint(tf.reduce_sum(yneg_neg_mask))\n",
    "\tprint(tf.reduce_sum(yneg_pos_neg_mask))\n",
    "\tyneg_pos_kernel_mean = tf.math.divide_no_nan(\n",
    "\t\ttf.reduce_sum(yneg_pos_mask * kernel_mat), tf.reduce_sum(yneg_pos_mask))\n",
    "\tyneg_neg_kernel_mean = tf.math.divide_no_nan(\n",
    "\t\ttf.reduce_sum(yneg_neg_mask * kernel_mat), tf.reduce_sum(yneg_neg_mask))\n",
    "\tyneg_pos_neg_kernel_mean = tf.math.divide_no_nan(\n",
    "\t\ttf.reduce_sum(yneg_pos_neg_mask * kernel_mat), tf.reduce_sum(yneg_pos_neg_mask))\n",
    "\n",
    "\tyneg_mmd_val = yneg_pos_kernel_mean + yneg_neg_kernel_mean - 2 * yneg_pos_neg_kernel_mean\n",
    "\tyneg_mmd_val = tf.maximum(0.0, yneg_mmd_val)\n",
    "\n",
    "\n",
    "\tmmd_val = yneg_mmd_val + ypos_mmd_val\n",
    "\tpos_kernel_mean = ypos_pos_kernel_mean + yneg_pos_kernel_mean\n",
    "\tneg_kernel_mean = ypos_neg_kernel_mean + yneg_neg_kernel_mean\n",
    "\tpos_neg_kernel_mean = ypos_pos_neg_kernel_mean + yneg_pos_neg_kernel_mean\n",
    "\tpos_neg_kernel_mean = ypos_pos_neg_kernel_mean + yneg_pos_neg_kernel_mean\n",
    "\n",
    "\treturn mmd_val, pos_kernel_mean, neg_kernel_mean, pos_neg_kernel_mean, pos_neg_kernel_mean\n"
   ]
  },
  {
   "cell_type": "code",
   "execution_count": 28,
   "metadata": {},
   "outputs": [
    {
     "name": "stdout",
     "output_type": "stream",
     "text": [
      "tf.Tensor(5625.0, shape=(), dtype=float32)\n",
      "tf.Tensor(5625.0, shape=(), dtype=float32)\n",
      "tf.Tensor(5625.0, shape=(), dtype=float32)\n",
      "1.8835068e-05 tf.Tensor(1.4543533e-05, shape=(), dtype=float32) tf.Tensor(1.180172e-05, shape=(), dtype=float32)\n"
     ]
    }
   ],
   "source": [
    "# ----Unbiased sample\n",
    "x, y = create_dummy_data([25, 50, 50, 25], 0.01)\n",
    "weights_pos, weights_neg = get_weights(y)\n",
    "\n",
    "\n",
    "x = tf.cast(tf.convert_to_tensor(x), tf.float32)\n",
    "y = tf.cast(tf.convert_to_tensor(y), tf.float32)\n",
    "\n",
    "weights_pos = tf.cast(tf.convert_to_tensor(weights_pos), tf.float32)\n",
    "weights_neg = tf.cast(tf.convert_to_tensor(weights_neg), tf.float32)\n",
    "\n",
    "\n",
    "uw_mmd = mmd_loss_unweighted(x[:, 0][:, np.newaxis], y[:, 1], {'sigma': 1.0})\n",
    "ow_mmd = mmd_loss_weighted_one_way(x[:, 0][:, np.newaxis], y[:, 1],\n",
    "                                   weights_pos, weights_neg, {'sigma': 1.0})\n",
    "bw_mmd = mmd_loss_weighted_both_ways(x[:, 0][:, np.newaxis], y[:, 1],\n",
    "                                   weights_pos, weights_neg, {'sigma': 1.0})\n",
    "\n",
    "\n",
    "print(uw_mmd[0].numpy(), ow_mmd[0], bw_mmd[0])"
   ]
  },
  {
   "cell_type": "code",
   "execution_count": 22,
   "metadata": {},
   "outputs": [
    {
     "data": {
      "text/plain": [
       "2500"
      ]
     },
     "execution_count": 22,
     "metadata": {},
     "output_type": "execute_result"
    }
   ],
   "source": [
    "50**2"
   ]
  },
  {
   "cell_type": "code",
   "execution_count": 29,
   "metadata": {},
   "outputs": [
    {
     "name": "stdout",
     "output_type": "stream",
     "text": [
      "tf.Tensor(2500.0, shape=(), dtype=float32)\n",
      "tf.Tensor(2500.0, shape=(), dtype=float32)\n",
      "tf.Tensor(2500.0, shape=(), dtype=float32)\n",
      "tf.Tensor(625.0, shape=(), dtype=float32)\n",
      "tf.Tensor(625.0, shape=(), dtype=float32)\n",
      "tf.Tensor(625.0, shape=(), dtype=float32)\n"
     ]
    },
    {
     "data": {
      "text/plain": [
       "(<tf.Tensor: shape=(), dtype=float32, numpy=4.7445297e-05>,\n",
       " <tf.Tensor: shape=(), dtype=float32, numpy=1.9998496>,\n",
       " <tf.Tensor: shape=(), dtype=float32, numpy=1.999794>,\n",
       " <tf.Tensor: shape=(), dtype=float32, numpy=1.999798>,\n",
       " <tf.Tensor: shape=(), dtype=float32, numpy=1.999798>)"
      ]
     },
     "execution_count": 29,
     "metadata": {},
     "output_type": "execute_result"
    }
   ],
   "source": [
    "mmd_loss_unweighted_two_way(x[:, 0][:, np.newaxis], y[:, 1], y[:, 0], {'sigma': 1.0})"
   ]
  },
  {
   "cell_type": "code",
   "execution_count": 68,
   "metadata": {},
   "outputs": [],
   "source": [
    "# ----biased sample\n",
    "xs, ys = [], []\n",
    "\n",
    "for _ in range(10):\n",
    "    x, y = create_dummy_data([190, 195, 10, 5], 0.1)\n",
    "    xs.append(x)\n",
    "    ys.append(y)\n",
    "\n",
    "    \n",
    "# \n",
    "results = []\n",
    "for sigma in [1e-4, 1e-3, 1e-2, 1e-1, 1, 2, 3, 4, 5, 6, 7, 8, 9, 1e1, 1e2, 1e3, 1e4]:\n",
    "    sigma_results = []\n",
    "    for i in range(10):\n",
    "        x = xs[i]\n",
    "        y = ys[i]\n",
    "        weights_pos, weights_neg = get_weights(y)\n",
    "        \n",
    "        x = tf.cast(tf.convert_to_tensor(x), tf.float32)\n",
    "        y = tf.cast(tf.convert_to_tensor(y), tf.float32)\n",
    "\n",
    "        weights_pos = tf.cast(tf.convert_to_tensor(weights_pos), tf.float32)\n",
    "        weights_neg = tf.cast(tf.convert_to_tensor(weights_neg), tf.float32)\n",
    "    \n",
    "        mmd_val = mmd_loss_weighted_both_ways(x, y[:, 1],\n",
    "                                   weights_pos, weights_neg, {'sigma': sigma})\n",
    "        sigma_results.append(mmd_val[0].numpy())\n",
    "    results.append(pd.DataFrame(sigma_results, columns = [sigma]).transpose())\n",
    "results = pd.concat(results)\n"
   ]
  },
  {
   "cell_type": "code",
   "execution_count": 69,
   "metadata": {},
   "outputs": [
    {
     "name": "stdout",
     "output_type": "stream",
     "text": [
      "0.0001         15.404456\n",
      "0.0010        157.742579\n",
      "0.0100         64.668259\n",
      "0.1000         16.573655\n",
      "1.0000         23.990510\n",
      "2.0000         21.065369\n",
      "3.0000         20.480162\n",
      "4.0000         20.271383\n",
      "5.0000         20.174530\n",
      "6.0000         20.121543\n",
      "7.0000         20.088951\n",
      "8.0000         20.067960\n",
      "9.0000         20.053651\n",
      "10.0000        20.043847\n",
      "100.0000       20.014597\n",
      "1000.0000       8.620573\n",
      "10000.0000      0.000000\n",
      "Name: ratio, dtype: float64\n"
     ]
    }
   ],
   "source": [
    "results_mean = results.mean(axis = 1)\n",
    "results_std = results.std(axis=1)\n",
    "\n",
    "results['ratio'] = results_mean / results_std\n",
    "results['ratio'][results_std ==0 ] = 0\n",
    "\n",
    "print(results['ratio'])"
   ]
  },
  {
   "cell_type": "code",
   "execution_count": 43,
   "metadata": {},
   "outputs": [
    {
     "ename": "NameError",
     "evalue": "name 'get_mmd' is not defined",
     "output_type": "error",
     "traceback": [
      "\u001b[0;31m---------------------------------------------------------------------------\u001b[0m",
      "\u001b[0;31mNameError\u001b[0m                                 Traceback (most recent call last)",
      "\u001b[0;32m<ipython-input-43-9936c4bdb168>\u001b[0m in \u001b[0;36m<module>\u001b[0;34m\u001b[0m\n\u001b[1;32m      3\u001b[0m \u001b[0mbandwidth\u001b[0m \u001b[0;34m=\u001b[0m \u001b[0;36m1.0\u001b[0m\u001b[0;34m\u001b[0m\u001b[0;34m\u001b[0m\u001b[0m\n\u001b[1;32m      4\u001b[0m \u001b[0;31m# biased mmd\u001b[0m\u001b[0;34m\u001b[0m\u001b[0;34m\u001b[0m\u001b[0;34m\u001b[0m\u001b[0m\n\u001b[0;32m----> 5\u001b[0;31m \u001b[0mxbias_mmd\u001b[0m \u001b[0;34m=\u001b[0m \u001b[0mget_mmd\u001b[0m\u001b[0;34m(\u001b[0m\u001b[0mx_bias\u001b[0m\u001b[0;34m[\u001b[0m\u001b[0;34m:\u001b[0m\u001b[0;34m,\u001b[0m \u001b[0;36m0\u001b[0m\u001b[0;34m]\u001b[0m\u001b[0;34m[\u001b[0m\u001b[0;34m:\u001b[0m\u001b[0;34m,\u001b[0m \u001b[0mnp\u001b[0m\u001b[0;34m.\u001b[0m\u001b[0mnewaxis\u001b[0m\u001b[0;34m]\u001b[0m\u001b[0;34m,\u001b[0m \u001b[0my_bias\u001b[0m\u001b[0;34m[\u001b[0m\u001b[0;34m:\u001b[0m\u001b[0;34m,\u001b[0m \u001b[0;36m1\u001b[0m\u001b[0;34m]\u001b[0m\u001b[0;34m,\u001b[0m \u001b[0mbandwidth\u001b[0m\u001b[0;34m=\u001b[0m\u001b[0mbandwidth\u001b[0m\u001b[0;34m)\u001b[0m\u001b[0;34m\u001b[0m\u001b[0;34m\u001b[0m\u001b[0m\n\u001b[0m\u001b[1;32m      6\u001b[0m print((f'If I have the right representation,'\n\u001b[1;32m      7\u001b[0m        f' is the mmd a good metric under bias? {xbias_mmd:.4f}'))\n",
      "\u001b[0;31mNameError\u001b[0m: name 'get_mmd' is not defined"
     ]
    }
   ],
   "source": [
    "# ---- biased sample dd\n",
    "x_bias, y_bias = create_dummy_data([90, 95, 10, 5])\n",
    "bandwidth = 1.0\n",
    "# biased mmd \n",
    "xbias_mmd = get_mmd(x_bias[:, 0][:, np.newaxis], y_bias[:, 1], bandwidth=bandwidth)\n",
    "print((f'If I have the right representation,'\n",
    "       f' is the mmd a good metric under bias? {xbias_mmd:.4f}'))\n",
    "\n",
    "ybias_mmd = get_mmd(y_bias[:, 1][:, np.newaxis], y_bias[:, 0], bandwidth=bandwidth)\n",
    "print(f'Can I correct it by subtracting the y mmd? {np.abs(xbias_mmd - ybias_mmd):.4f}')\n",
    "\n",
    "# weighted\n",
    "x_bias_wt_mmd = get_mmd_weighted(x_bias[:, 0][:, np.newaxis], y_bias, \n",
    "                                 bandwidth=bandwidth)\n",
    "print(f'can i use weighting instead? {x_bias_wt_mmd:.4f}')\n",
    "\n",
    "# sanity check \n",
    "xwt_mmd = get_mmd_weighted(x[:, 0][:, np.newaxis], y,  bandwidth = bandwidth)\n",
    "print(f'Does unbiased estimate get hit? {xwt_mmd:.4f}')"
   ]
  },
  {
   "cell_type": "code",
   "execution_count": 7,
   "metadata": {},
   "outputs": [
    {
     "name": "stderr",
     "output_type": "stream",
     "text": [
      "<ipython-input-4-fe830156165b>:26: RuntimeWarning: invalid value encountered in true_divide\n",
      "  mean00 = np.sum(mean00, axis=1)/np.sum(mask00, axis=1)\n",
      "<ipython-input-4-fe830156165b>:31: RuntimeWarning: invalid value encountered in true_divide\n",
      "  mean01 = np.sum(mean01, axis=1)/np.sum(mask01, axis=1)\n",
      "<ipython-input-4-fe830156165b>:43: RuntimeWarning: invalid value encountered in true_divide\n",
      "  mean11 = np.sum(mean11, axis=1)/np.sum(mask11, axis=1)\n",
      "<ipython-input-4-fe830156165b>:48: RuntimeWarning: invalid value encountered in true_divide\n",
      "  mean10 = np.sum(mean10, axis=1)/np.sum(mask10, axis=1)\n"
     ]
    },
    {
     "data": {
      "text/plain": [
       "0"
      ]
     },
     "execution_count": 7,
     "metadata": {},
     "output_type": "execute_result"
    }
   ],
   "source": [
    "x_bias_wt_tf_mmd = get_mmd_weighted_tf(np.float32(x_bias[:, 0][:, np.newaxis]), \n",
    "                                       np.float32(y_bias), \n",
    "                                       bandwidth=bandwidth)\n",
    "x_bias_wt_tf_mmd"
   ]
  },
  {
   "cell_type": "code",
   "execution_count": 29,
   "metadata": {},
   "outputs": [],
   "source": [
    "kernel = euclidean_distances(x_bias[:, 0][:, np.newaxis], x_bias[:, 0][:, np.newaxis])**2"
   ]
  },
  {
   "cell_type": "code",
   "execution_count": 30,
   "metadata": {},
   "outputs": [],
   "source": [
    "tf_kernel = tfa.losses.metric_learning.pairwise_distance(\n",
    "    np.float32(x_bias[:, 0][:, np.newaxis]),\n",
    "    squared=True)"
   ]
  },
  {
   "cell_type": "code",
   "execution_count": 31,
   "metadata": {},
   "outputs": [
    {
     "data": {
      "text/plain": [
       "array([0.00000000e+00, 1.40706639e-11, 2.59098364e-11, 2.18362245e-11,\n",
       "       7.18884047e-11])"
      ]
     },
     "execution_count": 31,
     "metadata": {},
     "output_type": "execute_result"
    }
   ],
   "source": [
    "kernel[0, :5] "
   ]
  },
  {
   "cell_type": "code",
   "execution_count": 32,
   "metadata": {},
   "outputs": [
    {
     "data": {
      "text/plain": [
       "array([0.0000000e+00, 1.4070661e-11, 2.5909835e-11, 2.1836222e-11,\n",
       "       7.1888398e-11], dtype=float32)"
      ]
     },
     "execution_count": 32,
     "metadata": {},
     "output_type": "execute_result"
    }
   ],
   "source": [
    "tf_kernel.numpy()[0, :5]"
   ]
  },
  {
   "cell_type": "code",
   "execution_count": 207,
   "metadata": {},
   "outputs": [
    {
     "data": {
      "text/plain": [
       "3.6193270602780103e-14"
      ]
     },
     "execution_count": 207,
     "metadata": {},
     "output_type": "execute_result"
    }
   ],
   "source": [
    "xwt_mmd = get_mmd_weighted(x[:, 0][:, np.newaxis], y,  bandwidth = 1.0)\n",
    "xwt_mmd"
   ]
  },
  {
   "cell_type": "code",
   "execution_count": 14,
   "metadata": {},
   "outputs": [],
   "source": [
    "x = tf.constant([[3, 5], [7, 11]], dtype=tf.int32)\n",
    "a = tf.constant([[4, 8]], dtype=tf.int32)\n",
    "y = x * a"
   ]
  },
  {
   "cell_type": "code",
   "execution_count": 15,
   "metadata": {},
   "outputs": [
    {
     "data": {
      "text/plain": [
       "<tf.Tensor: shape=(2, 2), dtype=int32, numpy=\n",
       "array([[12, 40],\n",
       "       [28, 88]], dtype=int32)>"
      ]
     },
     "execution_count": 15,
     "metadata": {},
     "output_type": "execute_result"
    }
   ],
   "source": [
    "y"
   ]
  },
  {
   "cell_type": "code",
   "execution_count": 11,
   "metadata": {},
   "outputs": [
    {
     "data": {
      "text/plain": [
       "40"
      ]
     },
     "execution_count": 11,
     "metadata": {},
     "output_type": "execute_result"
    }
   ],
   "source": [
    "5*8"
   ]
  },
  {
   "cell_type": "code",
   "execution_count": 397,
   "metadata": {},
   "outputs": [
    {
     "data": {
      "image/png": "[encoded data removed]",
      "text/plain": [
       "<Figure size 432x288 with 1 Axes>"
      ]
     },
     "metadata": {
      "needs_background": "light"
     },
     "output_type": "display_data"
    }
   ],
   "source": [
    "# x = np.random.normal(0, 0.1, 5000)[:, np.newaxis]\n",
    "x = np.random.binomial(1, 0.5, 5000)\n",
    "x = np.random.normal(0, 0.01, 5000)*x + np.random.normal(1, 0.01, 5000)*(1-x)\n",
    "x = x[:, np.newaxis]\n",
    "bandwidth = 0.1\n",
    "kernel0 = euclidean_distances(x, x)\n",
    "kernel0 = np.exp((- kernel0**2)/bandwidth)\n",
    "x_pdf = np.sum(kernel0, axis = 1)/(5000*bandwidth)\n",
    "\n",
    "x_sorting_index = np.argsort(x.ravel())\n",
    "plt.plot(x.ravel()[x_sorting_index], x_pdf[x_sorting_index])\n",
    "plt.show()\n",
    "plt.clf()\n",
    "plt.close()"
   ]
  },
  {
   "cell_type": "code",
   "execution_count": 398,
   "metadata": {},
   "outputs": [
    {
     "data": {
      "image/png": "[encoded data removed]",
      "text/plain": [
       "<Figure size 432x288 with 1 Axes>"
      ]
     },
     "metadata": {
      "needs_background": "light"
     },
     "output_type": "display_data"
    }
   ],
   "source": [
    "x_group = np.random.binomial(1, 0.9, 5000)\n",
    "x = np.random.normal(0, 0.01, 5000)*x_group + np.random.normal(1, 0.01, 5000)*(1-x_group)\n",
    "x = x[:, np.newaxis]\n",
    "\n",
    "x_majority_weight =  0.5 / np.mean(x_group)\n",
    "x_minority_weight =  0.5 / np.mean(1 - x_group)\n",
    "weights = x_group * x_majority_weight + (1 - x_group)*x_minority_weight\n",
    "bandwidth = 0.1\n",
    "\n",
    "kernel0 = euclidean_distances(x, x)\n",
    "kernel0 = np.exp((- kernel0**2)/bandwidth)\n",
    "kernel0 = kernel0*weights[:, np.newaxis]\n",
    "x_pdf = np.sum(kernel0, axis = 1)/(np.sum(weights)*bandwidth)\n",
    "# x_pdf = np.mean(kernel0, axis = 1)\n",
    "\n",
    "x_sorting_index = np.argsort(x.ravel())\n",
    "plt.plot(x.ravel()[x_sorting_index], x_pdf[x_sorting_index])\n",
    "plt.show()\n",
    "plt.clf()\n",
    "plt.close()"
   ]
  },
  {
   "cell_type": "code",
   "execution_count": 13,
   "metadata": {},
   "outputs": [],
   "source": [
    "import tensorflow_probability as tfp"
   ]
  },
  {
   "cell_type": "code",
   "execution_count": 14,
   "metadata": {},
   "outputs": [],
   "source": [
    "embedding = tf.random.normal((4, 2))\n",
    "main_labels = tf.cast(\n",
    "    tf.random.stateless_binomial((4, 1), seed =[0,1], counts = 1, probs = 0.5), \n",
    "    dtype = tf.float32)\n",
    "auxiliary_labels = tf.cast(\n",
    "    tf.random.stateless_binomial((4, 1), seed =[2,3], counts = 1, probs = 0.5), \n",
    "    dtype = tf.float32)\n",
    "weights_pos = tf.random.uniform(\n",
    "    (4, 1), minval=0.1, maxval=0.9, dtype=tf.dtypes.float32, seed=None, name=None\n",
    ")\n"
   ]
  },
  {
   "cell_type": "code",
   "execution_count": 38,
   "metadata": {},
   "outputs": [
    {
     "name": "stdout",
     "output_type": "stream",
     "text": [
      "tf.Tensor(\n",
      "[[1.        0.4256901 0.        0.       ]\n",
      " [0.4256901 1.        0.        0.       ]\n",
      " [0.        0.        0.        0.       ]\n",
      " [0.        0.        0.        0.       ]], shape=(4, 4), dtype=float32)\n"
     ]
    }
   ],
   "source": [
    "sigma = 1.0\n",
    "kernel = tfp.math.psd_kernels.ExponentiatedQuadratic(\n",
    "    amplitude=1.0, length_scale=sigma)\n",
    "\n",
    "kernel_mat = kernel.matrix(embedding, embedding)\n",
    "\n",
    "if len(auxiliary_labels.shape) == 1:\n",
    "    auxiliary_labels = tf.expand_dims(auxiliary_labels, axis=-1)\n",
    "\n",
    "pos_mask = tf.matmul(auxiliary_labels, tf.transpose(auxiliary_labels))\n",
    "neg_mask = tf.matmul(1.0 - auxiliary_labels,\n",
    "    tf.transpose(1.0 - auxiliary_labels))\n",
    "pos_neg_mask = tf.matmul(auxiliary_labels,\n",
    "    tf.transpose(1.0 - auxiliary_labels))\n",
    "neg_pos_mask = tf.matmul((1.0 - auxiliary_labels),\n",
    "    tf.transpose(auxiliary_labels))\n",
    "\n",
    "pos_kernel_mean = kernel_mat * pos_mask\n",
    "print(pos_kernel_mean)"
   ]
  },
  {
   "cell_type": "code",
   "execution_count": 39,
   "metadata": {},
   "outputs": [
    {
     "name": "stdout",
     "output_type": "stream",
     "text": [
      "(4, 4)\n"
     ]
    }
   ],
   "source": [
    "pos_kernel_mean = pos_kernel_mean * tf.transpose(weights_pos)\n",
    "print(pos_kernel_mean.shape)"
   ]
  },
  {
   "cell_type": "code",
   "execution_count": 40,
   "metadata": {},
   "outputs": [
    {
     "name": "stdout",
     "output_type": "stream",
     "text": [
      "(4,)\n"
     ]
    }
   ],
   "source": [
    "pos_kernel_mean = tf.math.divide_no_nan(\n",
    "    tf.reduce_sum(pos_kernel_mean, axis=1),\n",
    "    tf.reduce_sum(weights_pos, axis =1))\n",
    "print(pos_kernel_mean.shape)"
   ]
  },
  {
   "cell_type": "code",
   "execution_count": 41,
   "metadata": {},
   "outputs": [
    {
     "name": "stdout",
     "output_type": "stream",
     "text": [
      "()\n"
     ]
    }
   ],
   "source": [
    "pos_kernel_mean = tf.math.divide_no_nan(\n",
    "    tf.reduce_sum(pos_kernel_mean * tf.squeeze(weights_pos)),\n",
    "    tf.reduce_sum(weights_pos))\n",
    "\n",
    "print(pos_kernel_mean.shape)"
   ]
  },
  {
   "cell_type": "code",
   "execution_count": null,
   "metadata": {},
   "outputs": [],
   "source": []
  }
 ],
 "metadata": {
  "kernelspec": {
   "display_name": "Python 3",
   "language": "python",
   "name": "python3"
  },
  "language_info": {
   "codemirror_mode": {
    "name": "ipython",
    "version": 3
   },
   "file_extension": ".py",
   "mimetype": "text/x-python",
   "name": "python",
   "nbconvert_exporter": "python",
   "pygments_lexer": "ipython3",
   "version": "3.8.5"
  }
 },
 "nbformat": 4,
 "nbformat_minor": 4
}
