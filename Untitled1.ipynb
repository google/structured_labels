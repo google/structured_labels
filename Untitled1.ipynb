{
 "cells": [
  {
   "cell_type": "code",
   "execution_count": 38,
   "metadata": {},
   "outputs": [],
   "source": [
    "import pandas as pd\n",
    "import numpy as np"
   ]
  },
  {
   "cell_type": "code",
   "execution_count": 4,
   "metadata": {},
   "outputs": [],
   "source": [
    "DATA_DIR = '/data/ddmg/slabs/waterbirds'\n",
    "random_seed = 0 \n",
    "py0 = 0.8\n",
    "py1_y0 = 0.9"
   ]
  },
  {
   "cell_type": "code",
   "execution_count": 5,
   "metadata": {},
   "outputs": [],
   "source": [
    "experiment_directory = (f'{DATA_DIR}/experiment_data/'\n",
    "    f'rs{random_seed}_py0{py0}_py1_y0{py1_y0}')"
   ]
  },
  {
   "cell_type": "code",
   "execution_count": 18,
   "metadata": {},
   "outputs": [],
   "source": [
    "train_data = pd.read_csv(\n",
    "    f'{experiment_directory}/train.txt').values.tolist()\n",
    "train_data = [\n",
    "    tuple(train_data[i][0].split(',')) for i in range(len(train_data))\n",
    "]\n",
    "    "
   ]
  },
  {
   "cell_type": "code",
   "execution_count": 19,
   "metadata": {},
   "outputs": [
    {
     "data": {
      "text/plain": [
       "('/data/ddmg/slabs/CUB_200_2011/images/059.California_Gull/California_Gull_0034_41548.jpg',\n",
       " '/data/ddmg/slabs/segmentations/059.California_Gull/California_Gull_0034_41548.png',\n",
       " '/data/ddmg/slabs/waterbirds/places_data/water/image_5402.jpg',\n",
       " '1',\n",
       " '1',\n",
       " '1.46875',\n",
       " '0.0',\n",
       " '1.46875',\n",
       " '0.35875',\n",
       " '0.0',\n",
       " '0.35875')"
      ]
     },
     "execution_count": 19,
     "metadata": {},
     "output_type": "execute_result"
    }
   ],
   "source": [
    "train_data[0]"
   ]
  },
  {
   "cell_type": "code",
   "execution_count": 21,
   "metadata": {},
   "outputs": [],
   "source": [
    "df = pd.DataFrame(train_data, \n",
    "                  columns =['bird_img', 'seg_img', 'back_image',\n",
    "                           'y0', 'y1', 'weights_pos', 'weights_neg', \n",
    "                           'weights', 'balanced_weights_pos', 'balanced_weights_neg', \n",
    "                           'balanced_weights']) "
   ]
  },
  {
   "cell_type": "code",
   "execution_count": 27,
   "metadata": {},
   "outputs": [
    {
     "name": "stdout",
     "output_type": "stream",
     "text": [
      "(1175, 5)\n"
     ]
    }
   ],
   "source": [
    "df.drop(['weights_pos', 'weights_neg', \n",
    "        'weights', 'balanced_weights_pos', 'balanced_weights_neg', \n",
    "        'balanced_weights'], inplace = True, axis = 1)\n",
    "print(df.shape)"
   ]
  },
  {
   "cell_type": "code",
   "execution_count": 37,
   "metadata": {},
   "outputs": [],
   "source": [
    "aug_n2 = int(df.shape[0]/4)"
   ]
  },
  {
   "cell_type": "code",
   "execution_count": 41,
   "metadata": {},
   "outputs": [],
   "source": [
    "water_bird_index = np.random.choice(\n",
    "    df[(df.bird_img.str.contains('Gull'))].index.tolist(), \n",
    "    size = aug_n2\n",
    ").tolist()"
   ]
  },
  {
   "cell_type": "code",
   "execution_count": 43,
   "metadata": {},
   "outputs": [],
   "source": [
    "land_bird_index = np.random.choice(\n",
    "    df[(df.bird_img.str.contains('Warbler'))].index.tolist(), \n",
    "    size = aug_n2\n",
    ").tolist()"
   ]
  },
  {
   "cell_type": "code",
   "execution_count": 47,
   "metadata": {},
   "outputs": [],
   "source": [
    "aug_bird_index = water_bird_index + land_bird_index"
   ]
  },
  {
   "cell_type": "code",
   "execution_count": 50,
   "metadata": {},
   "outputs": [],
   "source": [
    "aug_df = df.iloc[aug_bird_index].reset_index(drop = True)"
   ]
  },
  {
   "cell_type": "code",
   "execution_count": 51,
   "metadata": {},
   "outputs": [
    {
     "data": {
      "text/html": [
       "<div>\n",
       "<style scoped>\n",
       "    .dataframe tbody tr th:only-of-type {\n",
       "        vertical-align: middle;\n",
       "    }\n",
       "\n",
       "    .dataframe tbody tr th {\n",
       "        vertical-align: top;\n",
       "    }\n",
       "\n",
       "    .dataframe thead th {\n",
       "        text-align: right;\n",
       "    }\n",
       "</style>\n",
       "<table border=\"1\" class=\"dataframe\">\n",
       "  <thead>\n",
       "    <tr style=\"text-align: right;\">\n",
       "      <th></th>\n",
       "      <th>bird_img</th>\n",
       "      <th>seg_img</th>\n",
       "      <th>back_image</th>\n",
       "      <th>y0</th>\n",
       "      <th>y1</th>\n",
       "    </tr>\n",
       "  </thead>\n",
       "  <tbody>\n",
       "    <tr>\n",
       "      <th>0</th>\n",
       "      <td>/data/ddmg/slabs/CUB_200_2011/images/065.Slaty...</td>\n",
       "      <td>/data/ddmg/slabs/segmentations/065.Slaty_backe...</td>\n",
       "      <td>/data/ddmg/slabs/waterbirds/places_data/water/...</td>\n",
       "      <td>1</td>\n",
       "      <td>1</td>\n",
       "    </tr>\n",
       "    <tr>\n",
       "      <th>1</th>\n",
       "      <td>/data/ddmg/slabs/CUB_200_2011/images/059.Calif...</td>\n",
       "      <td>/data/ddmg/slabs/segmentations/059.California_...</td>\n",
       "      <td>/data/ddmg/slabs/waterbirds/places_data/water/...</td>\n",
       "      <td>1</td>\n",
       "      <td>1</td>\n",
       "    </tr>\n",
       "    <tr>\n",
       "      <th>2</th>\n",
       "      <td>/data/ddmg/slabs/CUB_200_2011/images/062.Herri...</td>\n",
       "      <td>/data/ddmg/slabs/segmentations/062.Herring_Gul...</td>\n",
       "      <td>/data/ddmg/slabs/waterbirds/places_data/water/...</td>\n",
       "      <td>1</td>\n",
       "      <td>1</td>\n",
       "    </tr>\n",
       "    <tr>\n",
       "      <th>3</th>\n",
       "      <td>/data/ddmg/slabs/CUB_200_2011/images/063.Ivory...</td>\n",
       "      <td>/data/ddmg/slabs/segmentations/063.Ivory_Gull/...</td>\n",
       "      <td>/data/ddmg/slabs/waterbirds/places_data/water/...</td>\n",
       "      <td>1</td>\n",
       "      <td>1</td>\n",
       "    </tr>\n",
       "    <tr>\n",
       "      <th>4</th>\n",
       "      <td>/data/ddmg/slabs/CUB_200_2011/images/064.Ring_...</td>\n",
       "      <td>/data/ddmg/slabs/segmentations/064.Ring_billed...</td>\n",
       "      <td>/data/ddmg/slabs/waterbirds/places_data/water/...</td>\n",
       "      <td>1</td>\n",
       "      <td>1</td>\n",
       "    </tr>\n",
       "  </tbody>\n",
       "</table>\n",
       "</div>"
      ],
      "text/plain": [
       "                                            bird_img  \\\n",
       "0  /data/ddmg/slabs/CUB_200_2011/images/065.Slaty...   \n",
       "1  /data/ddmg/slabs/CUB_200_2011/images/059.Calif...   \n",
       "2  /data/ddmg/slabs/CUB_200_2011/images/062.Herri...   \n",
       "3  /data/ddmg/slabs/CUB_200_2011/images/063.Ivory...   \n",
       "4  /data/ddmg/slabs/CUB_200_2011/images/064.Ring_...   \n",
       "\n",
       "                                             seg_img  \\\n",
       "0  /data/ddmg/slabs/segmentations/065.Slaty_backe...   \n",
       "1  /data/ddmg/slabs/segmentations/059.California_...   \n",
       "2  /data/ddmg/slabs/segmentations/062.Herring_Gul...   \n",
       "3  /data/ddmg/slabs/segmentations/063.Ivory_Gull/...   \n",
       "4  /data/ddmg/slabs/segmentations/064.Ring_billed...   \n",
       "\n",
       "                                          back_image y0 y1  \n",
       "0  /data/ddmg/slabs/waterbirds/places_data/water/...  1  1  \n",
       "1  /data/ddmg/slabs/waterbirds/places_data/water/...  1  1  \n",
       "2  /data/ddmg/slabs/waterbirds/places_data/water/...  1  1  \n",
       "3  /data/ddmg/slabs/waterbirds/places_data/water/...  1  1  \n",
       "4  /data/ddmg/slabs/waterbirds/places_data/water/...  1  1  "
      ]
     },
     "execution_count": 51,
     "metadata": {},
     "output_type": "execute_result"
    }
   ],
   "source": [
    "aug_df.head()"
   ]
  },
  {
   "cell_type": "code",
   "execution_count": null,
   "metadata": {},
   "outputs": [],
   "source": [
    "aug_"
   ]
  }
 ],
 "metadata": {
  "kernelspec": {
   "display_name": "Python 3",
   "language": "python",
   "name": "python3"
  },
  "language_info": {
   "codemirror_mode": {
    "name": "ipython",
    "version": 3
   },
   "file_extension": ".py",
   "mimetype": "text/x-python",
   "name": "python",
   "nbconvert_exporter": "python",
   "pygments_lexer": "ipython3",
   "version": "3.8.5"
  }
 },
 "nbformat": 4,
 "nbformat_minor": 4
}
