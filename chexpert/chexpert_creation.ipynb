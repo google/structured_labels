{
 "cells": [
  {
   "cell_type": "code",
   "execution_count": 89,
   "metadata": {},
   "outputs": [],
   "source": [
    "import pandas as pd\n",
    "pd.set_option('mode.chained_assignment', None)\n",
    "import numpy as np "
   ]
  },
  {
   "cell_type": "code",
   "execution_count": 90,
   "metadata": {},
   "outputs": [],
   "source": [
    "trdf = pd.read_csv('/data/ddmg/slabs/CheXpert-v1.0/train.csv')\n",
    "vdf = pd.read_csv('/data/ddmg/slabs/CheXpert-v1.0/valid.csv')\n",
    "df = trdf.append(vdf)\n",
    "del trdf, vdf"
   ]
  },
  {
   "cell_type": "code",
   "execution_count": 91,
   "metadata": {},
   "outputs": [],
   "source": [
    "df = df[((df['No Finding'] == 1) | (df['Pneumonia'] == 1))]"
   ]
  },
  {
   "cell_type": "code",
   "execution_count": 92,
   "metadata": {},
   "outputs": [
    {
     "data": {
      "text/plain": [
       "NaN    0.745556\n",
       "1.0    0.212429\n",
       "0.0    0.042015\n",
       "Name: Pneumonia, dtype: float64"
      ]
     },
     "execution_count": 92,
     "metadata": {},
     "output_type": "execute_result"
    }
   ],
   "source": [
    "df.Pneumonia.value_counts(dropna=False, normalize=True)"
   ]
  },
  {
   "cell_type": "code",
   "execution_count": 93,
   "metadata": {},
   "outputs": [
    {
     "name": "stdout",
     "output_type": "stream",
     "text": [
      "Total uids 21237\n"
     ]
    }
   ],
   "source": [
    "df['patient'] = df.Path.str.extract(r'(patient)(\\d+)')[1]\n",
    "df['study'] = df.Path.str.extract(r'(study)(\\d+)')[1].astype(int)\n",
    "df['uid'] = df['patient'] + \"_\" + df['study'].astype(str)\n",
    "df = df[['uid', 'patient', 'study', 'Sex', 'Frontal/Lateral', 'Pneumonia', 'Path']]\n",
    "\n",
    "current_uid = len(df.uid.unique())\n",
    "print(f'Total uids {current_uid}')"
   ]
  },
  {
   "cell_type": "code",
   "execution_count": 94,
   "metadata": {},
   "outputs": [
    {
     "data": {
      "text/plain": [
       "0.0    0.787571\n",
       "1.0    0.212429\n",
       "Name: y0, dtype: float64"
      ]
     },
     "execution_count": 94,
     "metadata": {},
     "output_type": "execute_result"
    }
   ],
   "source": [
    "# get the main outcome\n",
    "df['y0'] = df['Pneumonia'].copy()\n",
    "df.y0.fillna(0, inplace = True)\n",
    "df.y0[(df.y0 == -1)] = 1\n",
    "df.y0.value_counts(dropna = False, normalize = True)"
   ]
  },
  {
   "cell_type": "code",
   "execution_count": 95,
   "metadata": {},
   "outputs": [],
   "source": [
    "# study_outcome = df.groupby('uid').agg({'y0':'max'}).reset_index()\n",
    "# df.drop('y0', axis = 1, inplace = True)\n",
    "# df = df.merge(study_outcome, on = ['uid'])\n",
    "\n",
    "# df = df[(df.y0 >= 0)]\n",
    "# df.drop('Pneumonia', axis = 1, inplace = True)\n",
    "\n",
    "# print(f'Lost {100*(current_uid - len(df.uid.unique()))/current_uid:.3f}% because of uncertain labels')\n",
    "# current_uid = len(df.uid.unique())"
   ]
  },
  {
   "cell_type": "code",
   "execution_count": 96,
   "metadata": {},
   "outputs": [
    {
     "name": "stdout",
     "output_type": "stream",
     "text": [
      "Lost 0.005% because of unknown sex\n"
     ]
    }
   ],
   "source": [
    "# get the auxiliary label \n",
    "df = df[(df.Sex != 'Unknown')]\n",
    "df['y1'] = (df.Sex == 'Male').astype(int)\n",
    "df.drop('Sex', axis = 1, inplace = True)\n",
    "\n",
    "print(f'Lost {100*(current_uid - len(df.uid.unique()))/current_uid:.3f}% because of unknown sex')\n",
    "current_uid = len(df.uid.unique())\n"
   ]
  },
  {
   "cell_type": "code",
   "execution_count": 97,
   "metadata": {},
   "outputs": [
    {
     "name": "stdout",
     "output_type": "stream",
     "text": [
      "Lost 0.019% because they dont have frontal views\n"
     ]
    }
   ],
   "source": [
    "# keep only studies with frontal views\n",
    "df['frontal'] = (df['Frontal/Lateral'] == 'Frontal').astype(int)\n",
    "# df.drop(['study_ever_frontal','patient_ever_frontal'], axis=1, errors='ignore', inplace =True)\n",
    "# max_frontal= df.groupby(['patient', 'study']).agg({'frontal': 'max'}).reset_index()\n",
    "# max_frontal.columns = ['patient', 'study', 'ever_frontal']\n",
    "# df = df.merge(max_frontal, on = ['patient', 'study'])\n",
    "df = df[(df.frontal ==1)]\n",
    "\n",
    "print(f'Lost {100*(current_uid - len(df.uid.unique()))/current_uid:.3f}% because they dont have frontal views')\n",
    "current_uid = len(df.uid.unique())\n",
    "\n"
   ]
  },
  {
   "cell_type": "code",
   "execution_count": 98,
   "metadata": {},
   "outputs": [
    {
     "name": "stdout",
     "output_type": "stream",
     "text": [
      "Lost 0.000% because they have duplicates\n"
     ]
    }
   ],
   "source": [
    "df.drop_duplicates(subset=['uid'], inplace = True)\n",
    "print(f'Lost {100*(current_uid - df.shape[0])/current_uid:.3f}% because they have duplicates')\n",
    "current_uid = len(df.uid.unique())"
   ]
  },
  {
   "cell_type": "code",
   "execution_count": 99,
   "metadata": {},
   "outputs": [
    {
     "data": {
      "text/html": [
       "<div>\n",
       "<style scoped>\n",
       "    .dataframe tbody tr th:only-of-type {\n",
       "        vertical-align: middle;\n",
       "    }\n",
       "\n",
       "    .dataframe tbody tr th {\n",
       "        vertical-align: top;\n",
       "    }\n",
       "\n",
       "    .dataframe thead th {\n",
       "        text-align: right;\n",
       "    }\n",
       "</style>\n",
       "<table border=\"1\" class=\"dataframe\">\n",
       "  <thead>\n",
       "    <tr style=\"text-align: right;\">\n",
       "      <th></th>\n",
       "      <th>uid</th>\n",
       "      <th>patient</th>\n",
       "      <th>study</th>\n",
       "      <th>Path</th>\n",
       "      <th>y0</th>\n",
       "      <th>y1</th>\n",
       "    </tr>\n",
       "  </thead>\n",
       "  <tbody>\n",
       "    <tr>\n",
       "      <th>0</th>\n",
       "      <td>00001_1</td>\n",
       "      <td>00001</td>\n",
       "      <td>1</td>\n",
       "      <td>CheXpert-v1.0/train/patient00001/study1/view1_...</td>\n",
       "      <td>0.0</td>\n",
       "      <td>0</td>\n",
       "    </tr>\n",
       "    <tr>\n",
       "      <th>5</th>\n",
       "      <td>00004_1</td>\n",
       "      <td>00004</td>\n",
       "      <td>1</td>\n",
       "      <td>CheXpert-v1.0/train/patient00004/study1/view1_...</td>\n",
       "      <td>0.0</td>\n",
       "      <td>0</td>\n",
       "    </tr>\n",
       "    <tr>\n",
       "      <th>7</th>\n",
       "      <td>00005_1</td>\n",
       "      <td>00005</td>\n",
       "      <td>1</td>\n",
       "      <td>CheXpert-v1.0/train/patient00005/study1/view1_...</td>\n",
       "      <td>0.0</td>\n",
       "      <td>1</td>\n",
       "    </tr>\n",
       "    <tr>\n",
       "      <th>11</th>\n",
       "      <td>00006_1</td>\n",
       "      <td>00006</td>\n",
       "      <td>1</td>\n",
       "      <td>CheXpert-v1.0/train/patient00006/study1/view1_...</td>\n",
       "      <td>0.0</td>\n",
       "      <td>0</td>\n",
       "    </tr>\n",
       "    <tr>\n",
       "      <th>18</th>\n",
       "      <td>00010_1</td>\n",
       "      <td>00010</td>\n",
       "      <td>1</td>\n",
       "      <td>CheXpert-v1.0/train/patient00010/study1/view1_...</td>\n",
       "      <td>0.0</td>\n",
       "      <td>0</td>\n",
       "    </tr>\n",
       "  </tbody>\n",
       "</table>\n",
       "</div>"
      ],
      "text/plain": [
       "        uid patient  study                                               Path  \\\n",
       "0   00001_1   00001      1  CheXpert-v1.0/train/patient00001/study1/view1_...   \n",
       "5   00004_1   00004      1  CheXpert-v1.0/train/patient00004/study1/view1_...   \n",
       "7   00005_1   00005      1  CheXpert-v1.0/train/patient00005/study1/view1_...   \n",
       "11  00006_1   00006      1  CheXpert-v1.0/train/patient00006/study1/view1_...   \n",
       "18  00010_1   00010      1  CheXpert-v1.0/train/patient00010/study1/view1_...   \n",
       "\n",
       "     y0  y1  \n",
       "0   0.0   0  \n",
       "5   0.0   0  \n",
       "7   0.0   1  \n",
       "11  0.0   0  \n",
       "18  0.0   0  "
      ]
     },
     "execution_count": 99,
     "metadata": {},
     "output_type": "execute_result"
    }
   ],
   "source": [
    "df.drop(['Frontal/Lateral', 'frontal', 'Pneumonia'], axis = 1, inplace = True)\n",
    "df.head()"
   ]
  },
  {
   "cell_type": "code",
   "execution_count": 100,
   "metadata": {},
   "outputs": [
    {
     "data": {
      "text/plain": [
       "0.0    0.784099\n",
       "1.0    0.215901\n",
       "Name: y0, dtype: float64"
      ]
     },
     "execution_count": 100,
     "metadata": {},
     "output_type": "execute_result"
    }
   ],
   "source": [
    "df.y0.value_counts(normalize=True)"
   ]
  },
  {
   "cell_type": "code",
   "execution_count": 101,
   "metadata": {},
   "outputs": [],
   "source": [
    "df.to_csv('/data/ddmg/slabs/chexpert/clean_data.csv', index = False)\n",
    "\n",
    "# ---- END ----# "
   ]
  },
  {
   "cell_type": "code",
   "execution_count": 10,
   "metadata": {},
   "outputs": [
    {
     "data": {
      "text/plain": [
       "Index(['uid', 'patient', 'study', 'Path', 'y0', 'y1'], dtype='object')"
      ]
     },
     "execution_count": 10,
     "metadata": {},
     "output_type": "execute_result"
    }
   ],
   "source": [
    "df.columns"
   ]
  },
  {
   "cell_type": "code",
   "execution_count": 10,
   "metadata": {},
   "outputs": [
    {
     "data": {
      "text/html": [
       "<div>\n",
       "<style scoped>\n",
       "    .dataframe tbody tr th:only-of-type {\n",
       "        vertical-align: middle;\n",
       "    }\n",
       "\n",
       "    .dataframe tbody tr th {\n",
       "        vertical-align: top;\n",
       "    }\n",
       "\n",
       "    .dataframe thead th {\n",
       "        text-align: right;\n",
       "    }\n",
       "</style>\n",
       "<table border=\"1\" class=\"dataframe\">\n",
       "  <thead>\n",
       "    <tr style=\"text-align: right;\">\n",
       "      <th></th>\n",
       "      <th>uid</th>\n",
       "      <th>patient</th>\n",
       "      <th>study</th>\n",
       "      <th>Path</th>\n",
       "      <th>y0</th>\n",
       "      <th>y1</th>\n",
       "    </tr>\n",
       "  </thead>\n",
       "  <tbody>\n",
       "    <tr>\n",
       "      <th>0</th>\n",
       "      <td>00001_1</td>\n",
       "      <td>1</td>\n",
       "      <td>1</td>\n",
       "      <td>CheXpert-v1.0-small/train/patient00001/study1/...</td>\n",
       "      <td>0.0</td>\n",
       "      <td>0</td>\n",
       "    </tr>\n",
       "    <tr>\n",
       "      <th>1</th>\n",
       "      <td>00002_2</td>\n",
       "      <td>2</td>\n",
       "      <td>2</td>\n",
       "      <td>CheXpert-v1.0-small/train/patient00002/study2/...</td>\n",
       "      <td>0.0</td>\n",
       "      <td>0</td>\n",
       "    </tr>\n",
       "    <tr>\n",
       "      <th>2</th>\n",
       "      <td>00002_1</td>\n",
       "      <td>2</td>\n",
       "      <td>1</td>\n",
       "      <td>CheXpert-v1.0-small/train/patient00002/study1/...</td>\n",
       "      <td>0.0</td>\n",
       "      <td>0</td>\n",
       "    </tr>\n",
       "    <tr>\n",
       "      <th>3</th>\n",
       "      <td>00003_1</td>\n",
       "      <td>3</td>\n",
       "      <td>1</td>\n",
       "      <td>CheXpert-v1.0-small/train/patient00003/study1/...</td>\n",
       "      <td>0.0</td>\n",
       "      <td>1</td>\n",
       "    </tr>\n",
       "    <tr>\n",
       "      <th>4</th>\n",
       "      <td>00004_1</td>\n",
       "      <td>4</td>\n",
       "      <td>1</td>\n",
       "      <td>CheXpert-v1.0-small/train/patient00004/study1/...</td>\n",
       "      <td>0.0</td>\n",
       "      <td>0</td>\n",
       "    </tr>\n",
       "  </tbody>\n",
       "</table>\n",
       "</div>"
      ],
      "text/plain": [
       "       uid  patient  study                                               Path  \\\n",
       "0  00001_1        1      1  CheXpert-v1.0-small/train/patient00001/study1/...   \n",
       "1  00002_2        2      2  CheXpert-v1.0-small/train/patient00002/study2/...   \n",
       "2  00002_1        2      1  CheXpert-v1.0-small/train/patient00002/study1/...   \n",
       "3  00003_1        3      1  CheXpert-v1.0-small/train/patient00003/study1/...   \n",
       "4  00004_1        4      1  CheXpert-v1.0-small/train/patient00004/study1/...   \n",
       "\n",
       "    y0  y1  \n",
       "0  0.0   0  \n",
       "1  0.0   0  \n",
       "2  0.0   0  \n",
       "3  0.0   1  \n",
       "4  0.0   0  "
      ]
     },
     "execution_count": 10,
     "metadata": {},
     "output_type": "execute_result"
    }
   ],
   "source": [
    "dfr = pd.read_csv(f'/data/ddmg/slabs/chexpert/clean_data.csv')\n",
    "dfr.head()"
   ]
  },
  {
   "cell_type": "code",
   "execution_count": 11,
   "metadata": {},
   "outputs": [],
   "source": [
    "rng = np.random.RandomState(0)\n",
    "test_candidates = rng.choice(df.patient.unique(), \n",
    "                size = int(len(df.patient.unique())*0.3), replace = False).tolist()\n",
    "train_candidates = list(set(df.patient.unique()) - set(test_candidates))\n",
    "assert len(test_candidates) + len(train_candidates) == len(df.patient.unique())"
   ]
  },
  {
   "cell_type": "code",
   "execution_count": 12,
   "metadata": {},
   "outputs": [],
   "source": [
    "train_candidates_df = df[(df.patient.isin(train_candidates))]\n",
    "test_candidates_df = df[(df.patient.isin(test_candidates))]"
   ]
  },
  {
   "cell_type": "code",
   "execution_count": 13,
   "metadata": {},
   "outputs": [],
   "source": [
    "def get_skewed_data_old(cand_df, rng):\n",
    "    if rng is None:\n",
    "        rng = np.random.RandomState(0)\n",
    "        \n",
    "    ids_11 = cand_df.uid[((cand_df.sex==1) &  (cand_df.y==1))].tolist()\n",
    "    ids_10_size = int(0.1 * (len(ids_11)/0.9))\n",
    "    ids_10_candidates = cand_df.uid[((cand_df.sex==1) &  (cand_df.y==0))].tolist()\n",
    "    ids_10 = rng.choice(ids_10_candidates, size = ids_10_size, replace =False).tolist()\n",
    "\n",
    "    ids_01 = cand_df.uid[((cand_df.sex==0) &  (cand_df.y==1))].tolist()\n",
    "    ids_00_size = int(0.9 * (len(ids_01)/0.1))\n",
    "    ids_00_candidates = cand_df.uid[((cand_df.sex==0) &  (cand_df.y==0))].tolist()\n",
    "    ids_00 = rng.choice(ids_00_candidates, size = ids_00_size, replace =False).tolist()\n",
    "\n",
    "    ids = ids_11 + ids_10 + ids_00 + ids_01\n",
    "    sk_df = cand_df[(cand_df.uid.isin(ids))]\n",
    "    return sk_df\n",
    "\n",
    "\n",
    "\n",
    "def get_skewed_data(cand_df, rng):\n",
    "    py1_v0 = py0_v1 =  0.9 \n",
    "    py0_v0 = py1_v1 =  1 - py0_v1\n",
    "\n",
    "    py1 = 0.3\n",
    "    py0 = 1 - py1\n",
    "\n",
    "    pv0 = 0.75\n",
    "    pv1 = 1 - pv0\n",
    "    pv1_y1 = pv1 * py1_v1/py1\n",
    "    pv1_y0 = pv1 * py0_v1/py0\n",
    "\n",
    "    pv0_y1 = pv0 * py1_v0/py1\n",
    "    pv0_y0 = pv0 * py0_v0/py0\n",
    "    \n",
    "\n",
    "\n",
    "def get_unskewed_data(cand_df, skewed_data, rng):\n",
    "    if rng is None:\n",
    "        rng = np.random.RandomState(0)\n",
    "\n",
    "    n_y1 = skewed_data[(skewed_data.y == 1)].shape[0]\n",
    "    n_y0 = skewed_data[(skewed_data.y == 0)].shape[0]\n",
    "\n",
    "    ids_0 = rng.choice(\n",
    "        cand_df.uid[(cand_df.y==0)], \n",
    "        size = n_y0, replace=False).tolist() \n",
    "    ids_1 = rng.choice(\n",
    "        cand_df.uid[(cand_df.y==1)], \n",
    "        size = n_y1, replace=False).tolist() \n",
    "\n",
    "    ids = ids_0 + ids_1 \n",
    "    usk_df = cand_df[(cand_df.uid.isin(ids))]\n",
    "    return usk_df\n",
    "    \n",
    "    "
   ]
  },
  {
   "cell_type": "code",
   "execution_count": 14,
   "metadata": {},
   "outputs": [],
   "source": [
    "tr_sk_df = get_skewed_data(train_candidates_df, rng)\n",
    "tr_usk_df = get_unskewed_data(train_candidates_df, tr_sk_df, rng)\n"
   ]
  },
  {
   "cell_type": "code",
   "execution_count": 56,
   "metadata": {},
   "outputs": [
    {
     "data": {
      "text/plain": [
       "1    0.584308\n",
       "0    0.415692\n",
       "Name: sex, dtype: float64"
      ]
     },
     "execution_count": 56,
     "metadata": {},
     "output_type": "execute_result"
    }
   ],
   "source": [
    "tr_usk_df.sex.value_counts(normalize=True)"
   ]
  },
  {
   "cell_type": "code",
   "execution_count": 84,
   "metadata": {},
   "outputs": [
    {
     "data": {
      "text/plain": [
       "11738.25"
      ]
     },
     "execution_count": 84,
     "metadata": {},
     "output_type": "execute_result"
    }
   ],
   "source": [
    "tr_sk_df.shape[0] * 0.75"
   ]
  },
  {
   "cell_type": "code",
   "execution_count": 59,
   "metadata": {},
   "outputs": [
    {
     "data": {
      "text/html": [
       "<div>\n",
       "<style scoped>\n",
       "    .dataframe tbody tr th:only-of-type {\n",
       "        vertical-align: middle;\n",
       "    }\n",
       "\n",
       "    .dataframe tbody tr th {\n",
       "        vertical-align: top;\n",
       "    }\n",
       "\n",
       "    .dataframe thead th {\n",
       "        text-align: right;\n",
       "    }\n",
       "</style>\n",
       "<table border=\"1\" class=\"dataframe\">\n",
       "  <thead>\n",
       "    <tr style=\"text-align: right;\">\n",
       "      <th>y</th>\n",
       "      <th>0.0</th>\n",
       "      <th>1.0</th>\n",
       "    </tr>\n",
       "    <tr>\n",
       "      <th>sex</th>\n",
       "      <th></th>\n",
       "      <th></th>\n",
       "    </tr>\n",
       "  </thead>\n",
       "  <tbody>\n",
       "    <tr>\n",
       "      <th>0</th>\n",
       "      <td>0.983345</td>\n",
       "      <td>0.421477</td>\n",
       "    </tr>\n",
       "    <tr>\n",
       "      <th>1</th>\n",
       "      <td>0.016655</td>\n",
       "      <td>0.578523</td>\n",
       "    </tr>\n",
       "  </tbody>\n",
       "</table>\n",
       "</div>"
      ],
      "text/plain": [
       "y         0.0       1.0\n",
       "sex                    \n",
       "0    0.983345  0.421477\n",
       "1    0.016655  0.578523"
      ]
     },
     "execution_count": 59,
     "metadata": {},
     "output_type": "execute_result"
    }
   ],
   "source": [
    "pd.crosstab(tr_sk_df.sex, tr_sk_df.y, normalize = 'columns')"
   ]
  },
  {
   "cell_type": "code",
   "execution_count": 18,
   "metadata": {},
   "outputs": [
    {
     "data": {
      "text/html": [
       "<div>\n",
       "<style scoped>\n",
       "    .dataframe tbody tr th:only-of-type {\n",
       "        vertical-align: middle;\n",
       "    }\n",
       "\n",
       "    .dataframe tbody tr th {\n",
       "        vertical-align: top;\n",
       "    }\n",
       "\n",
       "    .dataframe thead th {\n",
       "        text-align: right;\n",
       "    }\n",
       "</style>\n",
       "<table border=\"1\" class=\"dataframe\">\n",
       "  <thead>\n",
       "    <tr style=\"text-align: right;\">\n",
       "      <th>y</th>\n",
       "      <th>0.0</th>\n",
       "      <th>1.0</th>\n",
       "    </tr>\n",
       "    <tr>\n",
       "      <th>sex</th>\n",
       "      <th></th>\n",
       "      <th></th>\n",
       "    </tr>\n",
       "  </thead>\n",
       "  <tbody>\n",
       "    <tr>\n",
       "      <th>0</th>\n",
       "      <td>0.791270</td>\n",
       "      <td>0.208730</td>\n",
       "    </tr>\n",
       "    <tr>\n",
       "      <th>1</th>\n",
       "      <td>0.796173</td>\n",
       "      <td>0.203827</td>\n",
       "    </tr>\n",
       "  </tbody>\n",
       "</table>\n",
       "</div>"
      ],
      "text/plain": [
       "y         0.0       1.0\n",
       "sex                    \n",
       "0    0.791270  0.208730\n",
       "1    0.796173  0.203827"
      ]
     },
     "execution_count": 18,
     "metadata": {},
     "output_type": "execute_result"
    }
   ],
   "source": [
    "pd.crosstab(tr_usk_df.sex, tr_usk_df.y, normalize = 'index')"
   ]
  },
  {
   "cell_type": "code",
   "execution_count": 19,
   "metadata": {},
   "outputs": [],
   "source": [
    "ts_sk_df = get_skewed_data(test_candidates_df, rng)\n",
    "ts_usk_df = get_unskewed_data(test_candidates_df, ts_sk_df, rng)"
   ]
  },
  {
   "cell_type": "code",
   "execution_count": 20,
   "metadata": {},
   "outputs": [
    {
     "data": {
      "text/plain": [
       "0.0    0.794384\n",
       "1.0    0.205616\n",
       "Name: y, dtype: float64"
      ]
     },
     "execution_count": 20,
     "metadata": {},
     "output_type": "execute_result"
    }
   ],
   "source": [
    "ts_sk_df.y.value_counts(normalize=True)"
   ]
  },
  {
   "cell_type": "code",
   "execution_count": 21,
   "metadata": {},
   "outputs": [
    {
     "data": {
      "text/plain": [
       "0.0    0.794384\n",
       "1.0    0.205616\n",
       "Name: y, dtype: float64"
      ]
     },
     "execution_count": 21,
     "metadata": {},
     "output_type": "execute_result"
    }
   ],
   "source": [
    "ts_usk_df.y.value_counts(normalize=True)"
   ]
  },
  {
   "cell_type": "code",
   "execution_count": 22,
   "metadata": {},
   "outputs": [
    {
     "data": {
      "text/html": [
       "<div>\n",
       "<style scoped>\n",
       "    .dataframe tbody tr th:only-of-type {\n",
       "        vertical-align: middle;\n",
       "    }\n",
       "\n",
       "    .dataframe tbody tr th {\n",
       "        vertical-align: top;\n",
       "    }\n",
       "\n",
       "    .dataframe thead th {\n",
       "        text-align: right;\n",
       "    }\n",
       "</style>\n",
       "<table border=\"1\" class=\"dataframe\">\n",
       "  <thead>\n",
       "    <tr style=\"text-align: right;\">\n",
       "      <th>y</th>\n",
       "      <th>0.0</th>\n",
       "      <th>1.0</th>\n",
       "    </tr>\n",
       "    <tr>\n",
       "      <th>sex</th>\n",
       "      <th></th>\n",
       "      <th></th>\n",
       "    </tr>\n",
       "  </thead>\n",
       "  <tbody>\n",
       "    <tr>\n",
       "      <th>0</th>\n",
       "      <td>0.900000</td>\n",
       "      <td>0.100000</td>\n",
       "    </tr>\n",
       "    <tr>\n",
       "      <th>1</th>\n",
       "      <td>0.099542</td>\n",
       "      <td>0.900458</td>\n",
       "    </tr>\n",
       "  </tbody>\n",
       "</table>\n",
       "</div>"
      ],
      "text/plain": [
       "y         0.0       1.0\n",
       "sex                    \n",
       "0    0.900000  0.100000\n",
       "1    0.099542  0.900458"
      ]
     },
     "execution_count": 22,
     "metadata": {},
     "output_type": "execute_result"
    }
   ],
   "source": [
    "pd.crosstab(ts_sk_df.sex, ts_sk_df.y, normalize = 'index')"
   ]
  },
  {
   "cell_type": "code",
   "execution_count": 23,
   "metadata": {},
   "outputs": [
    {
     "data": {
      "text/html": [
       "<div>\n",
       "<style scoped>\n",
       "    .dataframe tbody tr th:only-of-type {\n",
       "        vertical-align: middle;\n",
       "    }\n",
       "\n",
       "    .dataframe tbody tr th {\n",
       "        vertical-align: top;\n",
       "    }\n",
       "\n",
       "    .dataframe thead th {\n",
       "        text-align: right;\n",
       "    }\n",
       "</style>\n",
       "<table border=\"1\" class=\"dataframe\">\n",
       "  <thead>\n",
       "    <tr style=\"text-align: right;\">\n",
       "      <th>y</th>\n",
       "      <th>0.0</th>\n",
       "      <th>1.0</th>\n",
       "    </tr>\n",
       "    <tr>\n",
       "      <th>sex</th>\n",
       "      <th></th>\n",
       "      <th></th>\n",
       "    </tr>\n",
       "  </thead>\n",
       "  <tbody>\n",
       "    <tr>\n",
       "      <th>0</th>\n",
       "      <td>0.790681</td>\n",
       "      <td>0.209319</td>\n",
       "    </tr>\n",
       "    <tr>\n",
       "      <th>1</th>\n",
       "      <td>0.797008</td>\n",
       "      <td>0.202992</td>\n",
       "    </tr>\n",
       "  </tbody>\n",
       "</table>\n",
       "</div>"
      ],
      "text/plain": [
       "y         0.0       1.0\n",
       "sex                    \n",
       "0    0.790681  0.209319\n",
       "1    0.797008  0.202992"
      ]
     },
     "execution_count": 23,
     "metadata": {},
     "output_type": "execute_result"
    }
   ],
   "source": [
    "pd.crosstab(ts_usk_df.sex, ts_usk_df.y, normalize = 'index')"
   ]
  },
  {
   "cell_type": "code",
   "execution_count": 24,
   "metadata": {},
   "outputs": [],
   "source": [
    "weights_df = pd.DataFrame([\n",
    "    {'sex':1, 'y':1, 'weight': 0.1 * 0.3}, \n",
    "    {'sex':0, 'y':1, 'weight': 0.9 * 0.3}, \n",
    "    {'sex':1, 'y':0, 'weight': 0.9 * 0.7}, \n",
    "    {'sex':0, 'y':0, 'weight': 0.1 * 0.7}, \n",
    "    \n",
    "    \n",
    "])"
   ]
  },
  {
   "cell_type": "code",
   "execution_count": 25,
   "metadata": {},
   "outputs": [],
   "source": [
    "test_candidates_df = test_candidates_df.merge(weights_df, on=['sex', 'y'])"
   ]
  },
  {
   "cell_type": "code",
   "execution_count": 26,
   "metadata": {},
   "outputs": [],
   "source": [
    "df_oskew = test_candidates_df.sample(weights=test_candidates_df.weight, n=10000, replace = False)"
   ]
  },
  {
   "cell_type": "code",
   "execution_count": 27,
   "metadata": {},
   "outputs": [
    {
     "data": {
      "text/html": [
       "<div>\n",
       "<style scoped>\n",
       "    .dataframe tbody tr th:only-of-type {\n",
       "        vertical-align: middle;\n",
       "    }\n",
       "\n",
       "    .dataframe tbody tr th {\n",
       "        vertical-align: top;\n",
       "    }\n",
       "\n",
       "    .dataframe thead th {\n",
       "        text-align: right;\n",
       "    }\n",
       "</style>\n",
       "<table border=\"1\" class=\"dataframe\">\n",
       "  <thead>\n",
       "    <tr style=\"text-align: right;\">\n",
       "      <th>y</th>\n",
       "      <th>0.0</th>\n",
       "      <th>1.0</th>\n",
       "    </tr>\n",
       "    <tr>\n",
       "      <th>sex</th>\n",
       "      <th></th>\n",
       "      <th></th>\n",
       "    </tr>\n",
       "  </thead>\n",
       "  <tbody>\n",
       "    <tr>\n",
       "      <th>0</th>\n",
       "      <td>0.919865</td>\n",
       "      <td>0.080135</td>\n",
       "    </tr>\n",
       "    <tr>\n",
       "      <th>1</th>\n",
       "      <td>0.999232</td>\n",
       "      <td>0.000768</td>\n",
       "    </tr>\n",
       "  </tbody>\n",
       "</table>\n",
       "</div>"
      ],
      "text/plain": [
       "y         0.0       1.0\n",
       "sex                    \n",
       "0    0.919865  0.080135\n",
       "1    0.999232  0.000768"
      ]
     },
     "execution_count": 27,
     "metadata": {},
     "output_type": "execute_result"
    }
   ],
   "source": [
    "pd.crosstab(df_oskew.sex, df_oskew.y, normalize='index')"
   ]
  },
  {
   "cell_type": "code",
   "execution_count": 28,
   "metadata": {},
   "outputs": [
    {
     "data": {
      "text/plain": [
       "0.0    0.9922\n",
       "1.0    0.0078\n",
       "Name: y, dtype: float64"
      ]
     },
     "execution_count": 28,
     "metadata": {},
     "output_type": "execute_result"
    }
   ],
   "source": [
    "df_oskew.y.value_counts(normalize=True)"
   ]
  },
  {
   "cell_type": "code",
   "execution_count": 29,
   "metadata": {},
   "outputs": [
    {
     "data": {
      "text/plain": [
       "'CheXpert-v1.0-small/train/patient00001/study1/view1_frontal.jpg'"
      ]
     },
     "execution_count": 29,
     "metadata": {},
     "output_type": "execute_result"
    }
   ],
   "source": [
    "ts_sk_df.Path[(ts_sk_df.sex ==0)].iloc[0]"
   ]
  },
  {
   "cell_type": "code",
   "execution_count": 29,
   "metadata": {},
   "outputs": [
    {
     "data": {
      "text/plain": [
       "(51120, 7)"
      ]
     },
     "execution_count": 29,
     "metadata": {},
     "output_type": "execute_result"
    }
   ],
   "source": [
    "test_candidates_df.shape"
   ]
  },
  {
   "cell_type": "code",
   "execution_count": 44,
   "metadata": {},
   "outputs": [
    {
     "ename": "ValueError",
     "evalue": "probabilities do not sum to 1",
     "output_type": "error",
     "traceback": [
      "\u001b[0;31m---------------------------------------------------------------------------\u001b[0m",
      "\u001b[0;31mValueError\u001b[0m                                Traceback (most recent call last)",
      "\u001b[0;32m<ipython-input-44-f59ee220f8f0>\u001b[0m in \u001b[0;36m<module>\u001b[0;34m\u001b[0m\n\u001b[0;32m----> 1\u001b[0;31m \u001b[0mnp\u001b[0m\u001b[0;34m.\u001b[0m\u001b[0mrandom\u001b[0m\u001b[0;34m.\u001b[0m\u001b[0mchoice\u001b[0m\u001b[0;34m(\u001b[0m\u001b[0mtest_candidates_df\u001b[0m\u001b[0;34m.\u001b[0m\u001b[0muid\u001b[0m\u001b[0;34m.\u001b[0m\u001b[0mtolist\u001b[0m\u001b[0;34m(\u001b[0m\u001b[0;34m)\u001b[0m\u001b[0;34m,\u001b[0m \u001b[0msize\u001b[0m \u001b[0;34m=\u001b[0m \u001b[0;36m1000\u001b[0m\u001b[0;34m,\u001b[0m \u001b[0mp\u001b[0m\u001b[0;34m=\u001b[0m\u001b[0mtest_candidates_df\u001b[0m\u001b[0;34m.\u001b[0m\u001b[0mweight\u001b[0m\u001b[0;34m.\u001b[0m\u001b[0mtolist\u001b[0m\u001b[0;34m(\u001b[0m\u001b[0;34m)\u001b[0m \u001b[0;34m)\u001b[0m\u001b[0;34m\u001b[0m\u001b[0;34m\u001b[0m\u001b[0m\n\u001b[0m",
      "\u001b[0;32mmtrand.pyx\u001b[0m in \u001b[0;36mnumpy.random.mtrand.RandomState.choice\u001b[0;34m()\u001b[0m\n",
      "\u001b[0;31mValueError\u001b[0m: probabilities do not sum to 1"
     ]
    }
   ],
   "source": [
    "np.random.choice(test_candidates_df.uid.tolist(), size = 1000, p=test_candidates_df.weight.tolist() )"
   ]
  },
  {
   "cell_type": "code",
   "execution_count": 81,
   "metadata": {},
   "outputs": [],
   "source": [
    "# pv1_y0 = pv0_y1 =  0.9 \n",
    "# pv1_y1 = pv0_y0 =  1 - pv1_y0\n",
    "\n",
    "# py1 = 0.3\n",
    "# py0 = 1 - py1\n",
    "\n",
    "# pv1 = pv1_y0 * py0 + pv1_y1 * py1\n",
    "# pv0 = 1 - pv1 \n",
    "\n",
    "# py1_v1 = (pv1_y1 * py1) / pv1\n",
    "# py0_v1 = (pv1_y0 * py0) / pv1\n",
    "\n",
    "# py1_v0 = (pv0_y1 * py1) / pv0\n",
    "# py0_v0 = (pv0_y0 * py0) / pv0\n",
    "\n",
    "py1_v0 = py0_v1 =  0.1 \n",
    "py0_v0 = py1_v1 =  1 - py0_v1\n",
    "\n",
    "py1 = 0.3\n",
    "py0 = 1 - py1\n",
    "\n",
    "pv0 = 0.75\n",
    "pv1 = 1 - pv0\n",
    "pv1_y1 = pv1 * py1_v1/py1\n",
    "pv1_y0 = pv1 * py0_v1/py0\n",
    "\n",
    "pv0_y1 = pv0 * py1_v0/py1\n",
    "pv0_y0 = pv0 * py0_v0/py0\n",
    "\n"
   ]
  },
  {
   "cell_type": "code",
   "execution_count": 86,
   "metadata": {},
   "outputs": [],
   "source": [
    "train_only_df = train_candidates_df.sample(n = int(0.75*train_candidates_df.shape[0]))\n"
   ]
  },
  {
   "cell_type": "code",
   "execution_count": 90,
   "metadata": {},
   "outputs": [
    {
     "data": {
      "text/plain": [
       "90785"
      ]
     },
     "execution_count": 90,
     "metadata": {},
     "output_type": "execute_result"
    }
   ],
   "source": [
    "train_only_df.shape[0]"
   ]
  },
  {
   "cell_type": "code",
   "execution_count": 89,
   "metadata": {},
   "outputs": [],
   "source": [
    "n = 5000\n",
    "df11 = train_only_df[\n",
    "    ((train_only_df.sex==1) & (train_only_df.y==1))].sample(n=int(n* py1_v1 * pv1))\n",
    "df01 = train_only_df[\n",
    "    ((train_only_df.sex==0) & (train_only_df.y==1))].sample(n=int(n* py1_v0 * pv0))\n",
    "df10 = train_only_df[\n",
    "    ((train_only_df.sex==1) & (train_only_df.y==0))].sample(n=int(n* py0_v1 * pv1))\n",
    "df00 = train_only_df[\n",
    "    ((train_only_df.sex==0) & (train_only_df.y==0))].sample(n=int(n* py0_v0 * pv0))\n"
   ]
  },
  {
   "cell_type": "code",
   "execution_count": 77,
   "metadata": {},
   "outputs": [],
   "source": [
    "test_oskew = pd.concat([df11, df01, df10, df00])\n"
   ]
  },
  {
   "cell_type": "code",
   "execution_count": 78,
   "metadata": {},
   "outputs": [
    {
     "data": {
      "text/plain": [
       "0.0    0.700348\n",
       "1.0    0.299652\n",
       "Name: y, dtype: float64"
      ]
     },
     "execution_count": 78,
     "metadata": {},
     "output_type": "execute_result"
    }
   ],
   "source": [
    "test_oskew.y.value_counts(normalize=True)"
   ]
  },
  {
   "cell_type": "code",
   "execution_count": 66,
   "metadata": {},
   "outputs": [
    {
     "data": {
      "text/html": [
       "<div>\n",
       "<style scoped>\n",
       "    .dataframe tbody tr th:only-of-type {\n",
       "        vertical-align: middle;\n",
       "    }\n",
       "\n",
       "    .dataframe tbody tr th {\n",
       "        vertical-align: top;\n",
       "    }\n",
       "\n",
       "    .dataframe thead th {\n",
       "        text-align: right;\n",
       "    }\n",
       "</style>\n",
       "<table border=\"1\" class=\"dataframe\">\n",
       "  <thead>\n",
       "    <tr style=\"text-align: right;\">\n",
       "      <th>y</th>\n",
       "      <th>0.0</th>\n",
       "      <th>1.0</th>\n",
       "    </tr>\n",
       "    <tr>\n",
       "      <th>sex</th>\n",
       "      <th></th>\n",
       "      <th></th>\n",
       "    </tr>\n",
       "  </thead>\n",
       "  <tbody>\n",
       "    <tr>\n",
       "      <th>0</th>\n",
       "      <td>0.901070</td>\n",
       "      <td>0.098930</td>\n",
       "    </tr>\n",
       "    <tr>\n",
       "      <th>1</th>\n",
       "      <td>0.096774</td>\n",
       "      <td>0.903226</td>\n",
       "    </tr>\n",
       "  </tbody>\n",
       "</table>\n",
       "</div>"
      ],
      "text/plain": [
       "y         0.0       1.0\n",
       "sex                    \n",
       "0    0.901070  0.098930\n",
       "1    0.096774  0.903226"
      ]
     },
     "execution_count": 66,
     "metadata": {},
     "output_type": "execute_result"
    }
   ],
   "source": [
    "pd.crosstab(test_oskew.sex, test_oskew.y, normalize = 'index')"
   ]
  },
  {
   "cell_type": "code",
   "execution_count": 48,
   "metadata": {},
   "outputs": [
    {
     "data": {
      "text/plain": [
       "sex       2.0\n",
       "y         2.0\n",
       "weight    1.0\n",
       "dtype: float64"
      ]
     },
     "execution_count": 48,
     "metadata": {},
     "output_type": "execute_result"
    }
   ],
   "source": [
    "weights_df.sum()"
   ]
  },
  {
   "cell_type": "code",
   "execution_count": 224,
   "metadata": {},
   "outputs": [
    {
     "data": {
      "text/plain": [
       "1.5558823529411765"
      ]
     },
     "execution_count": 224,
     "metadata": {},
     "output_type": "execute_result"
    }
   ],
   "source": [
    "pv1"
   ]
  },
  {
   "cell_type": "code",
   "execution_count": 160,
   "metadata": {},
   "outputs": [
    {
     "data": {
      "text/html": [
       "<div>\n",
       "<style scoped>\n",
       "    .dataframe tbody tr th:only-of-type {\n",
       "        vertical-align: middle;\n",
       "    }\n",
       "\n",
       "    .dataframe tbody tr th {\n",
       "        vertical-align: top;\n",
       "    }\n",
       "\n",
       "    .dataframe thead th {\n",
       "        text-align: right;\n",
       "    }\n",
       "</style>\n",
       "<table border=\"1\" class=\"dataframe\">\n",
       "  <thead>\n",
       "    <tr style=\"text-align: right;\">\n",
       "      <th>y</th>\n",
       "      <th>0.0</th>\n",
       "      <th>1.0</th>\n",
       "    </tr>\n",
       "    <tr>\n",
       "      <th>sex</th>\n",
       "      <th></th>\n",
       "      <th></th>\n",
       "    </tr>\n",
       "  </thead>\n",
       "  <tbody>\n",
       "    <tr>\n",
       "      <th>0</th>\n",
       "      <td>0.973005</td>\n",
       "      <td>0.026995</td>\n",
       "    </tr>\n",
       "    <tr>\n",
       "      <th>1</th>\n",
       "      <td>0.973638</td>\n",
       "      <td>0.026362</td>\n",
       "    </tr>\n",
       "  </tbody>\n",
       "</table>\n",
       "</div>"
      ],
      "text/plain": [
       "y         0.0       1.0\n",
       "sex                    \n",
       "0    0.973005  0.026995\n",
       "1    0.973638  0.026362"
      ]
     },
     "execution_count": 160,
     "metadata": {},
     "output_type": "execute_result"
    }
   ],
   "source": [
    "pd.crosstab(df.sex, df.y, normalize='index')"
   ]
  },
  {
   "cell_type": "code",
   "execution_count": 175,
   "metadata": {},
   "outputs": [
    {
     "data": {
      "text/plain": [
       "0.9545454545454546"
      ]
     },
     "execution_count": 175,
     "metadata": {},
     "output_type": "execute_result"
    }
   ],
   "source": [
    "(0.9 / 0.3)/ ((0.9 / 0.3) + (0.1 /0.7))"
   ]
  },
  {
   "cell_type": "code",
   "execution_count": 271,
   "metadata": {},
   "outputs": [
    {
     "data": {
      "text/plain": [
       "0.75"
      ]
     },
     "execution_count": 271,
     "metadata": {},
     "output_type": "execute_result"
    }
   ],
   "source": [
    "3 * 0.25"
   ]
  },
  {
   "cell_type": "code",
   "execution_count": 283,
   "metadata": {},
   "outputs": [
    {
     "data": {
      "text/plain": [
       "1.0"
      ]
     },
     "execution_count": 283,
     "metadata": {},
     "output_type": "execute_result"
    }
   ],
   "source": [
    "(0.1 * 0.3) + (0.9 * 0.3) + (0.1*0.7) + (0.9 * 0.7)"
   ]
  },
  {
   "cell_type": "code",
   "execution_count": 310,
   "metadata": {},
   "outputs": [
    {
     "data": {
      "text/plain": [
       "0.6599999999999999"
      ]
     },
     "execution_count": 310,
     "metadata": {},
     "output_type": "execute_result"
    }
   ],
   "source": [
    "1 - ((0.9 * 0.3) + (0.1 * 0.7) )"
   ]
  },
  {
   "cell_type": "code",
   "execution_count": null,
   "metadata": {},
   "outputs": [],
   "source": []
  }
 ],
 "metadata": {
  "kernelspec": {
   "display_name": "Python 3",
   "language": "python",
   "name": "python3"
  },
  "language_info": {
   "codemirror_mode": {
    "name": "ipython",
    "version": 3
   },
   "file_extension": ".py",
   "mimetype": "text/x-python",
   "name": "python",
   "nbconvert_exporter": "python",
   "pygments_lexer": "ipython3",
   "version": "3.8.5"
  }
 },
 "nbformat": 4,
 "nbformat_minor": 4
}
