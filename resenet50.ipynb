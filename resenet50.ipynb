{
 "cells": [
  {
   "cell_type": "code",
   "execution_count": 1,
   "metadata": {},
   "outputs": [],
   "source": [
    "from tensorflow.keras.applications.resnet50 import ResNet50\n",
    "from tensorflow.keras.preprocessing import image\n",
    "from tensorflow.keras.applications.resnet50 import preprocess_input, decode_predictions\n",
    "import numpy as np\n",
    "from waterbirds import data_builder\n",
    "from shared import train\n",
    "from shared.utils import restrict_GPU_tf\n",
    "import shared.train as sht\n",
    "import os \n",
    "import tensorflow as tf\n",
    "import re"
   ]
  },
  {
   "cell_type": "code",
   "execution_count": 4,
   "metadata": {},
   "outputs": [],
   "source": [
    "p_tr = 0.8\n",
    "py1_y0 = 0.5\n",
    "py1_y0_shift_list = [0.1, 0.5,  0.8]\n",
    "pflip0 = 0.01\n",
    "pflip1 = 0.01\n",
    "oracle_prop = 0.0\n",
    "exp_dir = '/data/ddmg/slabs/dummy/'\n",
    "num_epochs = 10 \n",
    "batch_size = 128\n",
    "training_steps = 1\n",
    "alpha = 0.0 \n",
    "sigma = 0.1 \n",
    "dropout_rate = 0.0\n",
    "l2_penalty = 0.0 \n",
    "embedding_dim = 1000 \n",
    "random_seed = 0 \n",
    "cleanup = False \n",
    "gpuid = '7'\n",
    "weighted_mmd = 'unweighted'\n",
    "architecture = 'pretrained_resnet'\n",
    "pixel = 64"
   ]
  },
  {
   "cell_type": "code",
   "execution_count": 5,
   "metadata": {},
   "outputs": [
    {
     "name": "stdout",
     "output_type": "stream",
     "text": [
      "Using GPU:7 with 0% of the memory\n"
     ]
    }
   ],
   "source": [
    "def dataset_builder():\n",
    "    return data_builder.build_input_fns(\n",
    "        p_tr=p_tr,\n",
    "        py1_y0=py1_y0,\n",
    "        py1_y0_s=py1_y0_shift_list,\n",
    "        pflip0=pflip0,\n",
    "        pflip1=pflip1,\n",
    "        oracle_prop=oracle_prop,\n",
    "        random_seed=random_seed)\n",
    "\n",
    "restrict_GPU_tf(gpuid)\n"
   ]
  },
  {
   "cell_type": "code",
   "execution_count": 6,
   "metadata": {},
   "outputs": [
    {
     "name": "stdout",
     "output_type": "stream",
     "text": [
      "INFO:tensorflow:Using config: {'_model_dir': '/data/scratch/mmakar/dummy/', '_tf_random_seed': 0, '_save_summary_steps': 100, '_save_checkpoints_steps': None, '_save_checkpoints_secs': 300, '_session_config': allow_soft_placement: true\n",
      "graph_options {\n",
      "  rewrite_options {\n",
      "    meta_optimizer_iterations: ONE\n",
      "  }\n",
      "}\n",
      ", '_keep_checkpoint_max': 2, '_keep_checkpoint_every_n_hours': 10000, '_log_step_count_steps': 100, '_train_distribute': None, '_device_fn': None, '_protocol': None, '_eval_distribute': None, '_experimental_distribute': None, '_experimental_max_worker_delay_secs': None, '_session_creation_timeout_secs': 7200, '_service': None, '_cluster_spec': ClusterSpec({}), '_task_type': 'worker', '_task_id': 0, '_global_id_in_cluster': 0, '_master': '', '_evaluation_master': '', '_is_chief': True, '_num_ps_replicas': 0, '_num_worker_replicas': 1}\n"
     ]
    }
   ],
   "source": [
    "scratch_exp_dir = exp_dir.replace('/data/ddmg/slabs/',\n",
    "    '/data/scratch/mmakar/')\n",
    "if not os.path.exists(scratch_exp_dir):\n",
    "    os.mkdir(scratch_exp_dir)\n",
    "\n",
    "sht.cleanup_directory(scratch_exp_dir)\n",
    "\n",
    "params = {\n",
    "    \"pixel\": pixel,\n",
    "    \"training_steps\": training_steps,\n",
    "    \"architecture\": architecture,\n",
    "    \"batch_size\": batch_size,\n",
    "    \"alpha\": alpha,\n",
    "    \"sigma\": sigma,\n",
    "    \"weighted_mmd\": weighted_mmd,\n",
    "    \"dropout_rate\": dropout_rate,\n",
    "    \"l2_penalty\": l2_penalty,\n",
    "    \"embedding_dim\": embedding_dim,\n",
    "    \"label_ind\": 0\n",
    "}\n",
    "\n",
    "run_config = tf.estimator.RunConfig(\n",
    "    tf_random_seed=random_seed,\n",
    "    save_checkpoints_secs=300,\n",
    "    keep_checkpoint_max=2)\n",
    "est = tf.estimator.Estimator(\n",
    "    sht.model_fn, model_dir=scratch_exp_dir,\n",
    "    params=params, config=run_config)"
   ]
  },
  {
   "cell_type": "code",
   "execution_count": 7,
   "metadata": {},
   "outputs": [
    {
     "name": "stderr",
     "output_type": "stream",
     "text": [
      "/data/ddmg/users/mmakar/shared_conda/anaconda3/envs/slabs/lib/python3.8/site-packages/pandas/core/indexing.py:670: SettingWithCopyWarning: \n",
      "A value is trying to be set on a copy of a slice from a DataFrame\n",
      "\n",
      "See the caveats in the documentation: https://pandas.pydata.org/pandas-docs/stable/user_guide/indexing.html#returning-a-view-versus-a-copy\n",
      "  iloc._setitem_with_indexer(indexer, value)\n",
      "/data/ddmg/users/mmakar/shared_conda/anaconda3/envs/slabs/lib/python3.8/site-packages/pandas/core/indexing.py:670: SettingWithCopyWarning: \n",
      "A value is trying to be set on a copy of a slice from a DataFrame\n",
      "\n",
      "See the caveats in the documentation: https://pandas.pydata.org/pandas-docs/stable/user_guide/indexing.html#returning-a-view-versus-a-copy\n",
      "  iloc._setitem_with_indexer(indexer, value)\n",
      "/data/ddmg/slabs/structured_labels/waterbirds/data_builder.py:131: SettingWithCopyWarning: \n",
      "A value is trying to be set on a copy of a slice from a DataFrame\n",
      "\n",
      "See the caveats in the documentation: https://pandas.pydata.org/pandas-docs/stable/user_guide/indexing.html#returning-a-view-versus-a-copy\n",
      "  bird_data_frame.background_filename[(\n",
      "/data/ddmg/slabs/structured_labels/waterbirds/data_builder.py:133: SettingWithCopyWarning: \n",
      "A value is trying to be set on a copy of a slice from a DataFrame\n",
      "\n",
      "See the caveats in the documentation: https://pandas.pydata.org/pandas-docs/stable/user_guide/indexing.html#returning-a-view-versus-a-copy\n",
      "  bird_data_frame.background_filename[(\n",
      "/data/ddmg/users/mmakar/shared_conda/anaconda3/envs/slabs/lib/python3.8/site-packages/pandas/core/indexing.py:670: SettingWithCopyWarning: \n",
      "A value is trying to be set on a copy of a slice from a DataFrame\n",
      "\n",
      "See the caveats in the documentation: https://pandas.pydata.org/pandas-docs/stable/user_guide/indexing.html#returning-a-view-versus-a-copy\n",
      "  iloc._setitem_with_indexer(indexer, value)\n",
      "/data/ddmg/users/mmakar/shared_conda/anaconda3/envs/slabs/lib/python3.8/site-packages/pandas/core/indexing.py:670: SettingWithCopyWarning: \n",
      "A value is trying to be set on a copy of a slice from a DataFrame\n",
      "\n",
      "See the caveats in the documentation: https://pandas.pydata.org/pandas-docs/stable/user_guide/indexing.html#returning-a-view-versus-a-copy\n",
      "  iloc._setitem_with_indexer(indexer, value)\n",
      "/data/ddmg/slabs/structured_labels/waterbirds/data_builder.py:131: SettingWithCopyWarning: \n",
      "A value is trying to be set on a copy of a slice from a DataFrame\n",
      "\n",
      "See the caveats in the documentation: https://pandas.pydata.org/pandas-docs/stable/user_guide/indexing.html#returning-a-view-versus-a-copy\n",
      "  bird_data_frame.background_filename[(\n",
      "/data/ddmg/slabs/structured_labels/waterbirds/data_builder.py:133: SettingWithCopyWarning: \n",
      "A value is trying to be set on a copy of a slice from a DataFrame\n",
      "\n",
      "See the caveats in the documentation: https://pandas.pydata.org/pandas-docs/stable/user_guide/indexing.html#returning-a-view-versus-a-copy\n",
      "  bird_data_frame.background_filename[(\n",
      "/data/ddmg/users/mmakar/shared_conda/anaconda3/envs/slabs/lib/python3.8/site-packages/pandas/core/indexing.py:670: SettingWithCopyWarning: \n",
      "A value is trying to be set on a copy of a slice from a DataFrame\n",
      "\n",
      "See the caveats in the documentation: https://pandas.pydata.org/pandas-docs/stable/user_guide/indexing.html#returning-a-view-versus-a-copy\n",
      "  iloc._setitem_with_indexer(indexer, value)\n",
      "/data/ddmg/slabs/structured_labels/waterbirds/data_builder.py:131: SettingWithCopyWarning: \n",
      "A value is trying to be set on a copy of a slice from a DataFrame\n",
      "\n",
      "See the caveats in the documentation: https://pandas.pydata.org/pandas-docs/stable/user_guide/indexing.html#returning-a-view-versus-a-copy\n",
      "  bird_data_frame.background_filename[(\n",
      "/data/ddmg/slabs/structured_labels/waterbirds/data_builder.py:133: SettingWithCopyWarning: \n",
      "A value is trying to be set on a copy of a slice from a DataFrame\n",
      "\n",
      "See the caveats in the documentation: https://pandas.pydata.org/pandas-docs/stable/user_guide/indexing.html#returning-a-view-versus-a-copy\n",
      "  bird_data_frame.background_filename[(\n",
      "/data/ddmg/users/mmakar/shared_conda/anaconda3/envs/slabs/lib/python3.8/site-packages/pandas/core/indexing.py:670: SettingWithCopyWarning: \n",
      "A value is trying to be set on a copy of a slice from a DataFrame\n",
      "\n",
      "See the caveats in the documentation: https://pandas.pydata.org/pandas-docs/stable/user_guide/indexing.html#returning-a-view-versus-a-copy\n",
      "  iloc._setitem_with_indexer(indexer, value)\n"
     ]
    },
    {
     "name": "stdout",
     "output_type": "stream",
     "text": [
      "(7830, 6)\n",
      "(1958, 6)\n"
     ]
    },
    {
     "name": "stderr",
     "output_type": "stream",
     "text": [
      "/data/ddmg/slabs/structured_labels/waterbirds/data_builder.py:131: SettingWithCopyWarning: \n",
      "A value is trying to be set on a copy of a slice from a DataFrame\n",
      "\n",
      "See the caveats in the documentation: https://pandas.pydata.org/pandas-docs/stable/user_guide/indexing.html#returning-a-view-versus-a-copy\n",
      "  bird_data_frame.background_filename[(\n",
      "/data/ddmg/slabs/structured_labels/waterbirds/data_builder.py:133: SettingWithCopyWarning: \n",
      "A value is trying to be set on a copy of a slice from a DataFrame\n",
      "\n",
      "See the caveats in the documentation: https://pandas.pydata.org/pandas-docs/stable/user_guide/indexing.html#returning-a-view-versus-a-copy\n",
      "  bird_data_frame.background_filename[(\n"
     ]
    },
    {
     "name": "stdout",
     "output_type": "stream",
     "text": [
      "WARNING:tensorflow:From /data/ddmg/users/mmakar/shared_conda/anaconda3/envs/slabs/lib/python3.8/site-packages/tensorflow/python/training/training_util.py:235: Variable.initialized_value (from tensorflow.python.ops.variables) is deprecated and will be removed in a future version.\n",
      "Instructions for updating:\n",
      "Use Variable.read_value. Variables in 2.X are initialized automatically both in eager and graph (inside tf.defun) contexts.\n",
      "INFO:tensorflow:Calling model_fn.\n",
      "INFO:tensorflow:Done calling model_fn.\n",
      "INFO:tensorflow:Create CheckpointSaverHook.\n",
      "INFO:tensorflow:Graph was finalized.\n",
      "INFO:tensorflow:Running local_init_op.\n",
      "INFO:tensorflow:Done running local_init_op.\n",
      "INFO:tensorflow:Calling checkpoint listeners before saving checkpoint 0...\n",
      "INFO:tensorflow:Saving checkpoints for 0 into /data/scratch/mmakar/dummy/model.ckpt.\n",
      "INFO:tensorflow:Calling checkpoint listeners after saving checkpoint 0...\n",
      "INFO:tensorflow:Calling checkpoint listeners before saving checkpoint 1...\n",
      "INFO:tensorflow:Saving checkpoints for 1 into /data/scratch/mmakar/dummy/model.ckpt.\n",
      "INFO:tensorflow:Calling checkpoint listeners after saving checkpoint 1...\n",
      "WARNING:tensorflow:Training with estimator made no steps. Perhaps input is empty or misspecified.\n",
      "INFO:tensorflow:Loss for final step: None.\n",
      "INFO:tensorflow:Calling model_fn.\n",
      "INFO:tensorflow:Done calling model_fn.\n",
      "INFO:tensorflow:Starting evaluation at 2020-12-01T10:46:45Z\n",
      "INFO:tensorflow:Graph was finalized.\n",
      "INFO:tensorflow:Restoring parameters from /data/scratch/mmakar/dummy/model.ckpt-1\n",
      "INFO:tensorflow:Running local_init_op.\n",
      "INFO:tensorflow:Done running local_init_op.\n",
      "INFO:tensorflow:Inference Time : 73.18362s\n",
      "INFO:tensorflow:Finished evaluation at 2020-12-01-10:47:58\n",
      "INFO:tensorflow:Saving dict for global step 1: accuracy = 0.8498468, global_step = 1, loss = 0.6859487, mean_class = 0.0, mean_pred = 0.49487552, mmd = 0.06075031, weighted_loss = 0.68440217\n",
      "INFO:tensorflow:Saving 'checkpoint_path' summary for global step 1: /data/scratch/mmakar/dummy/model.ckpt-1\n"
     ]
    },
    {
     "ename": "TypeError",
     "evalue": "eval_input_fn_creater() missing 1 required positional argument: 'params'",
     "output_type": "error",
     "traceback": [
      "\u001b[0;31m---------------------------------------------------------------------------\u001b[0m",
      "\u001b[0;31mTypeError\u001b[0m                                 Traceback (most recent call last)",
      "\u001b[0;32m<ipython-input-7-36f54ec380f5>\u001b[0m in \u001b[0;36m<module>\u001b[0;34m\u001b[0m\n\u001b[1;32m     14\u001b[0m \u001b[0;32mif\u001b[0m \u001b[0mpy1_y0_shift_list\u001b[0m \u001b[0;32mis\u001b[0m \u001b[0;32mnot\u001b[0m \u001b[0;32mNone\u001b[0m\u001b[0;34m:\u001b[0m\u001b[0;34m\u001b[0m\u001b[0;34m\u001b[0m\u001b[0m\n\u001b[1;32m     15\u001b[0m     \u001b[0;32mfor\u001b[0m \u001b[0mpy\u001b[0m \u001b[0;32min\u001b[0m \u001b[0mpy1_y0_shift_list\u001b[0m\u001b[0;34m:\u001b[0m\u001b[0;34m\u001b[0m\u001b[0;34m\u001b[0m\u001b[0m\n\u001b[0;32m---> 16\u001b[0;31m         \u001b[0meval_input_fn\u001b[0m \u001b[0;34m=\u001b[0m \u001b[0meval_input_fn_creater\u001b[0m\u001b[0;34m(\u001b[0m\u001b[0mpy\u001b[0m\u001b[0;34m)\u001b[0m\u001b[0;34m\u001b[0m\u001b[0;34m\u001b[0m\u001b[0m\n\u001b[0m\u001b[1;32m     17\u001b[0m         \u001b[0mdistribution_results\u001b[0m \u001b[0;34m=\u001b[0m \u001b[0mest\u001b[0m\u001b[0;34m.\u001b[0m\u001b[0mevaluate\u001b[0m\u001b[0;34m(\u001b[0m\u001b[0meval_input_fn\u001b[0m\u001b[0;34m,\u001b[0m \u001b[0msteps\u001b[0m\u001b[0;34m=\u001b[0m\u001b[0;36m1e5\u001b[0m\u001b[0;34m)\u001b[0m\u001b[0;34m\u001b[0m\u001b[0;34m\u001b[0m\u001b[0m\n\u001b[1;32m     18\u001b[0m         \u001b[0mprint\u001b[0m\u001b[0;34m(\u001b[0m\u001b[0;34m\"######################################\"\u001b[0m\u001b[0;34m)\u001b[0m\u001b[0;34m\u001b[0m\u001b[0;34m\u001b[0m\u001b[0m\n",
      "\u001b[0;31mTypeError\u001b[0m: eval_input_fn_creater() missing 1 required positional argument: 'params'"
     ]
    }
   ],
   "source": [
    "input_fns = dataset_builder()\n",
    "train_input_fn, valid_input_fn, eval_input_fn_creater = input_fns\n",
    "sht.cleanup_directory(scratch_exp_dir)\n",
    "est.train(train_input_fn, steps=training_steps)\n",
    "validation_results = est.evaluate(valid_input_fn)\n",
    "\n",
    "if weighted_mmd == \"True\":\n",
    "    validation_results['loss'] = validation_results['weighted_loss']\n",
    "validation_results.pop('weighted_loss', None)\n",
    "validation_results.pop('mean_pred', None)\n",
    "\n",
    "all_results = {\"validation\": validation_results}\n",
    "\n",
    "if py1_y0_shift_list is not None:\n",
    "    for py in py1_y0_shift_list:\n",
    "        eval_input_fn = eval_input_fn_creater(py)\n",
    "        distribution_results = est.evaluate(eval_input_fn, steps=1e5)\n",
    "        print(\"######################################\")\n",
    "        print(py, distribution_results['mean_pred'], distribution_results['mean_class'])\n",
    "        print(\"######################################\")\n",
    "        distribution_results.pop('weighted_loss', None)\n",
    "        # distribution_results.pop('mean_pred', None)\n",
    "        all_results[f'shift_{py}'] = distribution_results\n",
    "            \n",
    "            \n",
    "# sht.cleanup_directory(scratch_exp_dir)\n"
   ]
  },
  {
   "cell_type": "code",
   "execution_count": 8,
   "metadata": {},
   "outputs": [
    {
     "name": "stdout",
     "output_type": "stream",
     "text": [
      "INFO:tensorflow:Calling model_fn.\n",
      "INFO:tensorflow:Done calling model_fn.\n",
      "INFO:tensorflow:Starting evaluation at 2020-12-01T10:48:52Z\n",
      "INFO:tensorflow:Graph was finalized.\n",
      "INFO:tensorflow:Restoring parameters from /data/scratch/mmakar/dummy/model.ckpt-1\n",
      "INFO:tensorflow:Running local_init_op.\n",
      "INFO:tensorflow:Done running local_init_op.\n",
      "INFO:tensorflow:Inference Time : 74.65718s\n",
      "INFO:tensorflow:Finished evaluation at 2020-12-01-10:50:07\n",
      "INFO:tensorflow:Saving dict for global step 1: accuracy = 0.499, global_step = 1, loss = 0.6930573, mean_class = 0.0, mean_pred = 0.49478206, mmd = 0.07169962, weighted_loss = 0.6929819\n",
      "INFO:tensorflow:Saving 'checkpoint_path' summary for global step 1: /data/scratch/mmakar/dummy/model.ckpt-1\n",
      "######################################\n",
      "0.1 0.49478206 0.0\n",
      "######################################\n",
      "INFO:tensorflow:Calling model_fn.\n",
      "INFO:tensorflow:Done calling model_fn.\n",
      "INFO:tensorflow:Starting evaluation at 2020-12-01T10:50:14Z\n",
      "INFO:tensorflow:Graph was finalized.\n",
      "INFO:tensorflow:Restoring parameters from /data/scratch/mmakar/dummy/model.ckpt-1\n",
      "INFO:tensorflow:Running local_init_op.\n",
      "INFO:tensorflow:Done running local_init_op.\n",
      "INFO:tensorflow:Inference Time : 19.98305s\n",
      "INFO:tensorflow:Finished evaluation at 2020-12-01-10:50:34\n",
      "INFO:tensorflow:Saving dict for global step 1: accuracy = 0.499, global_step = 1, loss = 0.6930954, mean_class = 0.0, mean_pred = 0.49480075, mmd = 0.05949415, weighted_loss = 0.69288677\n",
      "INFO:tensorflow:Saving 'checkpoint_path' summary for global step 1: /data/scratch/mmakar/dummy/model.ckpt-1\n",
      "######################################\n",
      "0.5 0.49480075 0.0\n",
      "######################################\n",
      "INFO:tensorflow:Calling model_fn.\n",
      "INFO:tensorflow:Done calling model_fn.\n",
      "INFO:tensorflow:Starting evaluation at 2020-12-01T10:50:40Z\n",
      "INFO:tensorflow:Graph was finalized.\n",
      "INFO:tensorflow:Restoring parameters from /data/scratch/mmakar/dummy/model.ckpt-1\n",
      "INFO:tensorflow:Running local_init_op.\n",
      "INFO:tensorflow:Done running local_init_op.\n",
      "INFO:tensorflow:Inference Time : 19.67861s\n",
      "INFO:tensorflow:Finished evaluation at 2020-12-01-10:51:00\n",
      "INFO:tensorflow:Saving dict for global step 1: accuracy = 0.499, global_step = 1, loss = 0.6932657, mean_class = 0.0, mean_pred = 0.49480152, mmd = 0.06988994, weighted_loss = 0.6931049\n",
      "INFO:tensorflow:Saving 'checkpoint_path' summary for global step 1: /data/scratch/mmakar/dummy/model.ckpt-1\n",
      "######################################\n",
      "0.8 0.49480152 0.0\n",
      "######################################\n"
     ]
    }
   ],
   "source": [
    "if py1_y0_shift_list is not None:\n",
    "    for py in py1_y0_shift_list:\n",
    "        eval_input_fn = eval_input_fn_creater(py, params)\n",
    "        distribution_results = est.evaluate(eval_input_fn, steps=1e5)\n",
    "        print(\"######################################\")\n",
    "        print(py, distribution_results['mean_pred'], distribution_results['mean_class'])\n",
    "        print(\"######################################\")\n",
    "        distribution_results.pop('weighted_loss', None)\n",
    "        # distribution_results.pop('mean_pred', None)\n",
    "        all_results[f'shift_{py}'] = distribution_results"
   ]
  },
  {
   "cell_type": "code",
   "execution_count": 15,
   "metadata": {},
   "outputs": [],
   "source": [
    "from tensorflow.python.ops import array_ops\n",
    "from tensorflow.python.framework import dtypes\n",
    "def serving_input_fn():\n",
    "    feat = array_ops.placeholder(dtype=dtypes.float32)\n",
    "    return tf.estimator.export.TensorServingInputReceiver(features=feat, receiver_tensors=feat)\n"
   ]
  },
  {
   "cell_type": "code",
   "execution_count": 30,
   "metadata": {},
   "outputs": [
    {
     "name": "stdout",
     "output_type": "stream",
     "text": [
      "INFO:tensorflow:Calling model_fn.\n",
      "INFO:tensorflow:Done calling model_fn.\n",
      "INFO:tensorflow:Signatures INCLUDED in export for Classify: None\n",
      "INFO:tensorflow:Signatures INCLUDED in export for Regress: None\n",
      "INFO:tensorflow:Signatures INCLUDED in export for Predict: ['classify', 'serving_default']\n",
      "INFO:tensorflow:Signatures INCLUDED in export for Train: None\n",
      "INFO:tensorflow:Signatures INCLUDED in export for Eval: None\n",
      "INFO:tensorflow:Restoring parameters from /data/scratch/mmakar/dummy/model.ckpt-1\n",
      "INFO:tensorflow:Assets added to graph.\n",
      "INFO:tensorflow:No assets to write.\n",
      "INFO:tensorflow:SavedModel written to: /data/ddmg/slabs/dummy/saved_model/temp-1606840969/saved_model.pb\n"
     ]
    },
    {
     "data": {
      "text/plain": [
       "b'/data/ddmg/slabs/dummy/saved_model/1606840969'"
      ]
     },
     "execution_count": 30,
     "metadata": {},
     "output_type": "execute_result"
    }
   ],
   "source": [
    "est.export_saved_model(f'{exp_dir}saved_model', serving_input_fn)"
   ]
  },
  {
   "cell_type": "code",
   "execution_count": 31,
   "metadata": {},
   "outputs": [],
   "source": [
    "# identify latest TODO \n",
    "# from tensorflow.contrib import predictor\n",
    "loaded = tf.saved_model.load('/data/ddmg/slabs/dummy/saved_model/1606840969')\n",
    "infer = loaded.signatures[\"serving_default\"]\n"
   ]
  },
  {
   "cell_type": "code",
   "execution_count": 33,
   "metadata": {},
   "outputs": [],
   "source": [
    "eval_ds = eval_input_fn()"
   ]
  },
  {
   "cell_type": "code",
   "execution_count": 47,
   "metadata": {},
   "outputs": [
    {
     "name": "stdout",
     "output_type": "stream",
     "text": [
      "-----0/16----\n",
      "-----1/16----\n",
      "-----2/16----\n",
      "-----3/16----\n",
      "-----4/16----\n",
      "-----5/16----\n",
      "-----6/16----\n",
      "-----7/16----\n",
      "-----8/16----\n",
      "-----9/16----\n",
      "-----10/16----\n",
      "-----11/16----\n",
      "-----12/16----\n",
      "-----13/16----\n",
      "-----14/16----\n",
      "-----15/16----\n"
     ]
    }
   ],
   "source": [
    "preds = []\n",
    "labs = []\n",
    "for batch_id, examples in enumerate(eval_ds):\n",
    "    print(f'-----{batch_id}/{len(eval_ds)}----')\n",
    "    x, y = examples\n",
    "    preds.append(infer(x)['probabilities'].numpy())\n",
    "    labs.append(y[:,0])\n",
    "\n",
    "\n",
    "    "
   ]
  },
  {
   "cell_type": "code",
   "execution_count": 48,
   "metadata": {},
   "outputs": [],
   "source": [
    "preds_all = np.concatenate(preds)\n",
    "labs_all = np.concatenate(labs)"
   ]
  },
  {
   "cell_type": "code",
   "execution_count": 49,
   "metadata": {},
   "outputs": [
    {
     "name": "stdout",
     "output_type": "stream",
     "text": [
      "(2000, 1)\n",
      "(2000,)\n"
     ]
    }
   ],
   "source": [
    "print(preds_all.shape)\n",
    "print(labs_all.shape)"
   ]
  },
  {
   "cell_type": "code",
   "execution_count": 51,
   "metadata": {},
   "outputs": [
    {
     "name": "stdout",
     "output_type": "stream",
     "text": [
      "0.499\n"
     ]
    }
   ],
   "source": [
    "class_all = (preds_all[:,0] > 0.5)*1.0\n",
    "print(np.mean(class_all == labs_all))"
   ]
  },
  {
   "cell_type": "code",
   "execution_count": 54,
   "metadata": {},
   "outputs": [
    {
     "data": {
      "text/plain": [
       "0.501"
      ]
     },
     "execution_count": 54,
     "metadata": {},
     "output_type": "execute_result"
    }
   ],
   "source": [
    "np.mean(labs_all)"
   ]
  },
  {
   "cell_type": "code",
   "execution_count": null,
   "metadata": {},
   "outputs": [],
   "source": [
    "tf.saved_model.save(pretrained_model, mobilenet_save_path)\n"
   ]
  },
  {
   "cell_type": "code",
   "execution_count": null,
   "metadata": {},
   "outputs": [],
   "source": [
    "distribution_results = est.evaluate(train_input_fn, steps=10)"
   ]
  },
  {
   "cell_type": "code",
   "execution_count": null,
   "metadata": {},
   "outputs": [],
   "source": [
    "distribution_results"
   ]
  },
  {
   "cell_type": "code",
   "execution_count": null,
   "metadata": {},
   "outputs": [],
   "source": [
    "train_pred = est.predict(train_input_fn)"
   ]
  },
  {
   "cell_type": "code",
   "execution_count": 1,
   "metadata": {},
   "outputs": [
    {
     "ename": "NameError",
     "evalue": "name 'train_pred' is not defined",
     "output_type": "error",
     "traceback": [
      "\u001b[0;31m---------------------------------------------------------------------------\u001b[0m",
      "\u001b[0;31mNameError\u001b[0m                                 Traceback (most recent call last)",
      "\u001b[0;32m<ipython-input-1-f5ef2994fe27>\u001b[0m in \u001b[0;36m<module>\u001b[0;34m\u001b[0m\n\u001b[0;32m----> 1\u001b[0;31m \u001b[0mtrain_pred\u001b[0m\u001b[0;34m\u001b[0m\u001b[0;34m\u001b[0m\u001b[0m\n\u001b[0m",
      "\u001b[0;31mNameError\u001b[0m: name 'train_pred' is not defined"
     ]
    }
   ],
   "source": [
    "train_pred"
   ]
  },
  {
   "cell_type": "code",
   "execution_count": 9,
   "metadata": {},
   "outputs": [
    {
     "name": "stdout",
     "output_type": "stream",
     "text": [
      "INFO:tensorflow:Calling model_fn.\n",
      "INFO:tensorflow:Done calling model_fn.\n",
      "INFO:tensorflow:Graph was finalized.\n",
      "INFO:tensorflow:Restoring parameters from /data/scratch/mmakar/dummy/model.ckpt-251\n",
      "INFO:tensorflow:Running local_init_op.\n",
      "INFO:tensorflow:Done running local_init_op.\n",
      "{'classes': array([0.], dtype=float32), 'probabilities': array([0.], dtype=float32)}\n",
      "{'classes': array([0.], dtype=float32), 'probabilities': array([0.], dtype=float32)}\n",
      "{'classes': array([0.], dtype=float32), 'probabilities': array([0.], dtype=float32)}\n",
      "{'classes': array([0.], dtype=float32), 'probabilities': array([0.], dtype=float32)}\n",
      "{'classes': array([0.], dtype=float32), 'probabilities': array([0.], dtype=float32)}\n",
      "{'classes': array([0.], dtype=float32), 'probabilities': array([0.], dtype=float32)}\n",
      "{'classes': array([0.], dtype=float32), 'probabilities': array([0.], dtype=float32)}\n",
      "{'classes': array([0.], dtype=float32), 'probabilities': array([0.], dtype=float32)}\n",
      "{'classes': array([0.], dtype=float32), 'probabilities': array([0.], dtype=float32)}\n",
      "{'classes': array([0.], dtype=float32), 'probabilities': array([0.], dtype=float32)}\n",
      "{'classes': array([0.], dtype=float32), 'probabilities': array([0.], dtype=float32)}\n"
     ]
    }
   ],
   "source": [
    "counter = 0\n",
    "for res in train_pred:\n",
    "    if counter >10:\n",
    "        break\n",
    "    print(res)\n",
    "    counter = counter + 1"
   ]
  },
  {
   "cell_type": "code",
   "execution_count": null,
   "metadata": {},
   "outputs": [],
   "source": []
  }
 ],
 "metadata": {
  "kernelspec": {
   "display_name": "Python 3",
   "language": "python",
   "name": "python3"
  },
  "language_info": {
   "codemirror_mode": {
    "name": "ipython",
    "version": 3
   },
   "file_extension": ".py",
   "mimetype": "text/x-python",
   "name": "python",
   "nbconvert_exporter": "python",
   "pygments_lexer": "ipython3",
   "version": "3.8.5"
  }
 },
 "nbformat": 4,
 "nbformat_minor": 4
}
